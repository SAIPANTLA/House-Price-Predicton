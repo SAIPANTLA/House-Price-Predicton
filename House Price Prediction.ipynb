{
 "cells": [
  {
   "cell_type": "markdown",
   "id": "cf2046a8",
   "metadata": {},
   "source": [
    "### Importing Libraries"
   ]
  },
  {
   "cell_type": "code",
   "execution_count": 24,
   "id": "17eb761b",
   "metadata": {},
   "outputs": [],
   "source": [
    "import numpy as np\n",
    "import pandas as pd\n",
    "import matplotlib.pyplot as plt"
   ]
  },
  {
   "cell_type": "markdown",
   "id": "6ff0b1c7",
   "metadata": {},
   "source": [
    "### Importing Dataset"
   ]
  },
  {
   "cell_type": "code",
   "execution_count": 25,
   "id": "907c8b10",
   "metadata": {},
   "outputs": [
    {
     "data": {
      "text/html": [
       "<div>\n",
       "<style scoped>\n",
       "    .dataframe tbody tr th:only-of-type {\n",
       "        vertical-align: middle;\n",
       "    }\n",
       "\n",
       "    .dataframe tbody tr th {\n",
       "        vertical-align: top;\n",
       "    }\n",
       "\n",
       "    .dataframe thead th {\n",
       "        text-align: right;\n",
       "    }\n",
       "</style>\n",
       "<table border=\"1\" class=\"dataframe\">\n",
       "  <thead>\n",
       "    <tr style=\"text-align: right;\">\n",
       "      <th></th>\n",
       "      <th>SquareFeet</th>\n",
       "      <th>Bedrooms</th>\n",
       "      <th>Bathrooms</th>\n",
       "      <th>Neighborhood</th>\n",
       "      <th>YearBuilt</th>\n",
       "      <th>Price</th>\n",
       "    </tr>\n",
       "  </thead>\n",
       "  <tbody>\n",
       "    <tr>\n",
       "      <th>0</th>\n",
       "      <td>2126</td>\n",
       "      <td>4</td>\n",
       "      <td>1</td>\n",
       "      <td>Rural</td>\n",
       "      <td>1969</td>\n",
       "      <td>215355.283618</td>\n",
       "    </tr>\n",
       "    <tr>\n",
       "      <th>1</th>\n",
       "      <td>2459</td>\n",
       "      <td>3</td>\n",
       "      <td>2</td>\n",
       "      <td>Rural</td>\n",
       "      <td>1980</td>\n",
       "      <td>195014.221626</td>\n",
       "    </tr>\n",
       "    <tr>\n",
       "      <th>2</th>\n",
       "      <td>1860</td>\n",
       "      <td>2</td>\n",
       "      <td>1</td>\n",
       "      <td>Suburb</td>\n",
       "      <td>1970</td>\n",
       "      <td>306891.012076</td>\n",
       "    </tr>\n",
       "    <tr>\n",
       "      <th>3</th>\n",
       "      <td>2294</td>\n",
       "      <td>2</td>\n",
       "      <td>1</td>\n",
       "      <td>Urban</td>\n",
       "      <td>1996</td>\n",
       "      <td>206786.787153</td>\n",
       "    </tr>\n",
       "    <tr>\n",
       "      <th>4</th>\n",
       "      <td>2130</td>\n",
       "      <td>5</td>\n",
       "      <td>2</td>\n",
       "      <td>Suburb</td>\n",
       "      <td>2001</td>\n",
       "      <td>272436.239065</td>\n",
       "    </tr>\n",
       "    <tr>\n",
       "      <th>...</th>\n",
       "      <td>...</td>\n",
       "      <td>...</td>\n",
       "      <td>...</td>\n",
       "      <td>...</td>\n",
       "      <td>...</td>\n",
       "      <td>...</td>\n",
       "    </tr>\n",
       "    <tr>\n",
       "      <th>49995</th>\n",
       "      <td>1282</td>\n",
       "      <td>5</td>\n",
       "      <td>3</td>\n",
       "      <td>Rural</td>\n",
       "      <td>1975</td>\n",
       "      <td>100080.865895</td>\n",
       "    </tr>\n",
       "    <tr>\n",
       "      <th>49996</th>\n",
       "      <td>2854</td>\n",
       "      <td>2</td>\n",
       "      <td>2</td>\n",
       "      <td>Suburb</td>\n",
       "      <td>1988</td>\n",
       "      <td>374507.656727</td>\n",
       "    </tr>\n",
       "    <tr>\n",
       "      <th>49997</th>\n",
       "      <td>2979</td>\n",
       "      <td>5</td>\n",
       "      <td>3</td>\n",
       "      <td>Suburb</td>\n",
       "      <td>1962</td>\n",
       "      <td>384110.555590</td>\n",
       "    </tr>\n",
       "    <tr>\n",
       "      <th>49998</th>\n",
       "      <td>2596</td>\n",
       "      <td>5</td>\n",
       "      <td>2</td>\n",
       "      <td>Rural</td>\n",
       "      <td>1984</td>\n",
       "      <td>380512.685957</td>\n",
       "    </tr>\n",
       "    <tr>\n",
       "      <th>49999</th>\n",
       "      <td>1572</td>\n",
       "      <td>5</td>\n",
       "      <td>3</td>\n",
       "      <td>Rural</td>\n",
       "      <td>2011</td>\n",
       "      <td>221618.583218</td>\n",
       "    </tr>\n",
       "  </tbody>\n",
       "</table>\n",
       "<p>50000 rows × 6 columns</p>\n",
       "</div>"
      ],
      "text/plain": [
       "       SquareFeet  Bedrooms  Bathrooms Neighborhood  YearBuilt          Price\n",
       "0            2126         4          1        Rural       1969  215355.283618\n",
       "1            2459         3          2        Rural       1980  195014.221626\n",
       "2            1860         2          1       Suburb       1970  306891.012076\n",
       "3            2294         2          1        Urban       1996  206786.787153\n",
       "4            2130         5          2       Suburb       2001  272436.239065\n",
       "...           ...       ...        ...          ...        ...            ...\n",
       "49995        1282         5          3        Rural       1975  100080.865895\n",
       "49996        2854         2          2       Suburb       1988  374507.656727\n",
       "49997        2979         5          3       Suburb       1962  384110.555590\n",
       "49998        2596         5          2        Rural       1984  380512.685957\n",
       "49999        1572         5          3        Rural       2011  221618.583218\n",
       "\n",
       "[50000 rows x 6 columns]"
      ]
     },
     "execution_count": 25,
     "metadata": {},
     "output_type": "execute_result"
    }
   ],
   "source": [
    "df=pd.read_csv(r\"C:\\Users\\SK\\Downloads\\housing_price_dataset.csv\")\n",
    "df"
   ]
  },
  {
   "cell_type": "code",
   "execution_count": 26,
   "id": "81d6c542",
   "metadata": {},
   "outputs": [
    {
     "name": "stdout",
     "output_type": "stream",
     "text": [
      "<class 'pandas.core.frame.DataFrame'>\n",
      "RangeIndex: 50000 entries, 0 to 49999\n",
      "Data columns (total 6 columns):\n",
      " #   Column        Non-Null Count  Dtype  \n",
      "---  ------        --------------  -----  \n",
      " 0   SquareFeet    50000 non-null  int64  \n",
      " 1   Bedrooms      50000 non-null  int64  \n",
      " 2   Bathrooms     50000 non-null  int64  \n",
      " 3   Neighborhood  50000 non-null  object \n",
      " 4   YearBuilt     50000 non-null  int64  \n",
      " 5   Price         50000 non-null  float64\n",
      "dtypes: float64(1), int64(4), object(1)\n",
      "memory usage: 2.3+ MB\n"
     ]
    }
   ],
   "source": [
    "df.info()"
   ]
  },
  {
   "cell_type": "markdown",
   "id": "95db0619",
   "metadata": {},
   "source": [
    "#### Data Preproccesing"
   ]
  },
  {
   "cell_type": "markdown",
   "id": "790a506e",
   "metadata": {},
   "source": [
    "### EDA"
   ]
  },
  {
   "cell_type": "code",
   "execution_count": 27,
   "id": "711557cd",
   "metadata": {},
   "outputs": [
    {
     "data": {
      "text/plain": [
       "SquareFeet      0\n",
       "Bedrooms        0\n",
       "Bathrooms       0\n",
       "Neighborhood    0\n",
       "YearBuilt       0\n",
       "Price           0\n",
       "dtype: int64"
      ]
     },
     "execution_count": 27,
     "metadata": {},
     "output_type": "execute_result"
    }
   ],
   "source": [
    "df.isna().sum()"
   ]
  },
  {
   "cell_type": "code",
   "execution_count": 28,
   "id": "330c4adf",
   "metadata": {},
   "outputs": [
    {
     "data": {
      "text/plain": [
       "0"
      ]
     },
     "execution_count": 28,
     "metadata": {},
     "output_type": "execute_result"
    }
   ],
   "source": [
    "df.duplicated().sum()"
   ]
  },
  {
   "cell_type": "code",
   "execution_count": 29,
   "id": "9bd9561a",
   "metadata": {},
   "outputs": [
    {
     "data": {
      "text/html": [
       "<div>\n",
       "<style scoped>\n",
       "    .dataframe tbody tr th:only-of-type {\n",
       "        vertical-align: middle;\n",
       "    }\n",
       "\n",
       "    .dataframe tbody tr th {\n",
       "        vertical-align: top;\n",
       "    }\n",
       "\n",
       "    .dataframe thead th {\n",
       "        text-align: right;\n",
       "    }\n",
       "</style>\n",
       "<table border=\"1\" class=\"dataframe\">\n",
       "  <thead>\n",
       "    <tr style=\"text-align: right;\">\n",
       "      <th></th>\n",
       "      <th>SquareFeet</th>\n",
       "      <th>Bedrooms</th>\n",
       "      <th>Bathrooms</th>\n",
       "      <th>Neighborhood</th>\n",
       "      <th>YearBuilt</th>\n",
       "      <th>Price</th>\n",
       "    </tr>\n",
       "  </thead>\n",
       "  <tbody>\n",
       "    <tr>\n",
       "      <th>0</th>\n",
       "      <td>2126</td>\n",
       "      <td>4</td>\n",
       "      <td>1</td>\n",
       "      <td>Rural</td>\n",
       "      <td>1969</td>\n",
       "      <td>215355.283618</td>\n",
       "    </tr>\n",
       "    <tr>\n",
       "      <th>1</th>\n",
       "      <td>2459</td>\n",
       "      <td>3</td>\n",
       "      <td>2</td>\n",
       "      <td>Rural</td>\n",
       "      <td>1980</td>\n",
       "      <td>195014.221626</td>\n",
       "    </tr>\n",
       "    <tr>\n",
       "      <th>2</th>\n",
       "      <td>1860</td>\n",
       "      <td>2</td>\n",
       "      <td>1</td>\n",
       "      <td>Suburb</td>\n",
       "      <td>1970</td>\n",
       "      <td>306891.012076</td>\n",
       "    </tr>\n",
       "    <tr>\n",
       "      <th>3</th>\n",
       "      <td>2294</td>\n",
       "      <td>2</td>\n",
       "      <td>1</td>\n",
       "      <td>Urban</td>\n",
       "      <td>1996</td>\n",
       "      <td>206786.787153</td>\n",
       "    </tr>\n",
       "    <tr>\n",
       "      <th>4</th>\n",
       "      <td>2130</td>\n",
       "      <td>5</td>\n",
       "      <td>2</td>\n",
       "      <td>Suburb</td>\n",
       "      <td>2001</td>\n",
       "      <td>272436.239065</td>\n",
       "    </tr>\n",
       "  </tbody>\n",
       "</table>\n",
       "</div>"
      ],
      "text/plain": [
       "   SquareFeet  Bedrooms  Bathrooms Neighborhood  YearBuilt          Price\n",
       "0        2126         4          1        Rural       1969  215355.283618\n",
       "1        2459         3          2        Rural       1980  195014.221626\n",
       "2        1860         2          1       Suburb       1970  306891.012076\n",
       "3        2294         2          1        Urban       1996  206786.787153\n",
       "4        2130         5          2       Suburb       2001  272436.239065"
      ]
     },
     "execution_count": 29,
     "metadata": {},
     "output_type": "execute_result"
    }
   ],
   "source": [
    "df.head()"
   ]
  },
  {
   "cell_type": "raw",
   "id": "aa7b663c",
   "metadata": {},
   "source": [
    "neighbourhood here it is in chatagerical data so we have to convert the char data to numerical data by using feature TRANSFORMATONS\n",
    "in this tansformations we have to use oridinal methoad because the char dta is following some order rural>suburban and suburban>urban"
   ]
  },
  {
   "cell_type": "code",
   "execution_count": 30,
   "id": "e8b1a435",
   "metadata": {},
   "outputs": [],
   "source": [
    "df['Neighborhood']=df['Neighborhood'].map({\"Rural\":1,\"Suburb\":2,\"Urban\":3})"
   ]
  },
  {
   "cell_type": "code",
   "execution_count": 31,
   "id": "99a2235b",
   "metadata": {},
   "outputs": [
    {
     "data": {
      "text/html": [
       "<div>\n",
       "<style scoped>\n",
       "    .dataframe tbody tr th:only-of-type {\n",
       "        vertical-align: middle;\n",
       "    }\n",
       "\n",
       "    .dataframe tbody tr th {\n",
       "        vertical-align: top;\n",
       "    }\n",
       "\n",
       "    .dataframe thead th {\n",
       "        text-align: right;\n",
       "    }\n",
       "</style>\n",
       "<table border=\"1\" class=\"dataframe\">\n",
       "  <thead>\n",
       "    <tr style=\"text-align: right;\">\n",
       "      <th></th>\n",
       "      <th>SquareFeet</th>\n",
       "      <th>Bedrooms</th>\n",
       "      <th>Bathrooms</th>\n",
       "      <th>Neighborhood</th>\n",
       "      <th>YearBuilt</th>\n",
       "      <th>Price</th>\n",
       "    </tr>\n",
       "  </thead>\n",
       "  <tbody>\n",
       "    <tr>\n",
       "      <th>0</th>\n",
       "      <td>2126</td>\n",
       "      <td>4</td>\n",
       "      <td>1</td>\n",
       "      <td>1</td>\n",
       "      <td>1969</td>\n",
       "      <td>215355.283618</td>\n",
       "    </tr>\n",
       "    <tr>\n",
       "      <th>1</th>\n",
       "      <td>2459</td>\n",
       "      <td>3</td>\n",
       "      <td>2</td>\n",
       "      <td>1</td>\n",
       "      <td>1980</td>\n",
       "      <td>195014.221626</td>\n",
       "    </tr>\n",
       "    <tr>\n",
       "      <th>2</th>\n",
       "      <td>1860</td>\n",
       "      <td>2</td>\n",
       "      <td>1</td>\n",
       "      <td>2</td>\n",
       "      <td>1970</td>\n",
       "      <td>306891.012076</td>\n",
       "    </tr>\n",
       "    <tr>\n",
       "      <th>3</th>\n",
       "      <td>2294</td>\n",
       "      <td>2</td>\n",
       "      <td>1</td>\n",
       "      <td>3</td>\n",
       "      <td>1996</td>\n",
       "      <td>206786.787153</td>\n",
       "    </tr>\n",
       "    <tr>\n",
       "      <th>4</th>\n",
       "      <td>2130</td>\n",
       "      <td>5</td>\n",
       "      <td>2</td>\n",
       "      <td>2</td>\n",
       "      <td>2001</td>\n",
       "      <td>272436.239065</td>\n",
       "    </tr>\n",
       "  </tbody>\n",
       "</table>\n",
       "</div>"
      ],
      "text/plain": [
       "   SquareFeet  Bedrooms  Bathrooms  Neighborhood  YearBuilt          Price\n",
       "0        2126         4          1             1       1969  215355.283618\n",
       "1        2459         3          2             1       1980  195014.221626\n",
       "2        1860         2          1             2       1970  306891.012076\n",
       "3        2294         2          1             3       1996  206786.787153\n",
       "4        2130         5          2             2       2001  272436.239065"
      ]
     },
     "execution_count": 31,
     "metadata": {},
     "output_type": "execute_result"
    }
   ],
   "source": [
    "df.head()"
   ]
  },
  {
   "cell_type": "markdown",
   "id": "0756ad7d",
   "metadata": {},
   "source": [
    "### Model Building"
   ]
  },
  {
   "cell_type": "markdown",
   "id": "ee375869",
   "metadata": {},
   "source": [
    "#### Splitting into input and output"
   ]
  },
  {
   "cell_type": "code",
   "execution_count": 42,
   "id": "96cbcec9",
   "metadata": {},
   "outputs": [
    {
     "data": {
      "text/plain": [
       "SquareFeet      0\n",
       "Bedrooms        0\n",
       "Bathrooms       0\n",
       "Neighborhood    0\n",
       "YearBuilt       0\n",
       "Price           0\n",
       "dtype: int64"
      ]
     },
     "execution_count": 42,
     "metadata": {},
     "output_type": "execute_result"
    }
   ],
   "source": [
    "df.isna().sum()"
   ]
  },
  {
   "cell_type": "code",
   "execution_count": 43,
   "id": "f63d7cac",
   "metadata": {},
   "outputs": [],
   "source": [
    "A=df['YearBuilt']"
   ]
  },
  {
   "cell_type": "code",
   "execution_count": 44,
   "id": "a451ab89",
   "metadata": {},
   "outputs": [],
   "source": [
    "X=df.drop(\"Price\",axis=1)\n",
    "y=df['Price']"
   ]
  },
  {
   "cell_type": "code",
   "execution_count": 45,
   "id": "517ab629",
   "metadata": {
    "collapsed": true
   },
   "outputs": [
    {
     "name": "stdout",
     "output_type": "stream",
     "text": [
      "Requirement already satisfied: scikit-learn in c:\\users\\sk\\anaconda3\\innomatics\\lib\\site-packages (1.4.2)\n",
      "Requirement already satisfied: numpy>=1.19.5 in c:\\users\\sk\\appdata\\roaming\\python\\python311\\site-packages (from scikit-learn) (1.26.4)\n",
      "Requirement already satisfied: scipy>=1.6.0 in c:\\users\\sk\\anaconda3\\innomatics\\lib\\site-packages (from scikit-learn) (1.13.0)\n",
      "Requirement already satisfied: joblib>=1.2.0 in c:\\users\\sk\\anaconda3\\innomatics\\lib\\site-packages (from scikit-learn) (1.4.0)\n",
      "Requirement already satisfied: threadpoolctl>=2.0.0 in c:\\users\\sk\\anaconda3\\innomatics\\lib\\site-packages (from scikit-learn) (2.2.0)\n",
      "Note: you may need to restart the kernel to use updated packages.\n"
     ]
    },
    {
     "name": "stderr",
     "output_type": "stream",
     "text": [
      "WARNING: Skipping C:\\Users\\SK\\anaconda3\\innomatics\\Lib\\site-packages\\aiobotocore-2.5.0.dist-info due to invalid metadata entry 'name'\n",
      "WARNING: Skipping C:\\Users\\SK\\anaconda3\\innomatics\\Lib\\site-packages\\aiofiles-22.1.0.dist-info due to invalid metadata entry 'name'\n",
      "WARNING: Skipping C:\\Users\\SK\\anaconda3\\innomatics\\Lib\\site-packages\\aiohttp-3.8.5.dist-info due to invalid metadata entry 'name'\n",
      "WARNING: Skipping C:\\Users\\SK\\anaconda3\\innomatics\\Lib\\site-packages\\aiosqlite-0.18.0.dist-info due to invalid metadata entry 'name'\n",
      "WARNING: Skipping C:\\Users\\SK\\anaconda3\\innomatics\\Lib\\site-packages\\anyio-3.5.0.dist-info due to invalid metadata entry 'name'\n",
      "WARNING: Skipping C:\\Users\\SK\\anaconda3\\innomatics\\Lib\\site-packages\\async_timeout-4.0.2.dist-info due to invalid metadata entry 'name'\n",
      "WARNING: Skipping C:\\Users\\SK\\anaconda3\\innomatics\\Lib\\site-packages\\autopep8-1.6.0.dist-info due to invalid metadata entry 'name'\n",
      "WARNING: Skipping C:\\Users\\SK\\anaconda3\\innomatics\\Lib\\site-packages\\backcall-0.2.0.dist-info due to invalid metadata entry 'name'\n",
      "WARNING: Skipping C:\\Users\\SK\\anaconda3\\innomatics\\Lib\\site-packages\\black-0.0.dist-info due to invalid metadata entry 'name'\n",
      "WARNING: Skipping C:\\Users\\SK\\anaconda3\\innomatics\\Lib\\site-packages\\botocore-1.29.76.dist-info due to invalid metadata entry 'name'\n",
      "WARNING: Skipping C:\\Users\\SK\\anaconda3\\innomatics\\Lib\\site-packages\\Bottleneck-1.3.5.dist-info due to invalid metadata entry 'name'\n",
      "WARNING: Skipping C:\\Users\\SK\\anaconda3\\innomatics\\Lib\\site-packages\\brotlipy-0.7.0-py3.11.egg-info due to invalid metadata entry 'name'\n",
      "WARNING: Skipping C:\\Users\\SK\\anaconda3\\innomatics\\Lib\\site-packages\\cffi-1.15.1.dist-info due to invalid metadata entry 'name'\n",
      "WARNING: Skipping C:\\Users\\SK\\anaconda3\\innomatics\\Lib\\site-packages\\click-8.0.4.dist-info due to invalid metadata entry 'name'\n",
      "WARNING: Skipping C:\\Users\\SK\\anaconda3\\innomatics\\Lib\\site-packages\\colorcet-3.0.1.dist-info due to invalid metadata entry 'name'\n",
      "WARNING: Skipping C:\\Users\\SK\\anaconda3\\innomatics\\Lib\\site-packages\\comm-0.1.2.dist-info due to invalid metadata entry 'name'\n",
      "WARNING: Skipping C:\\Users\\SK\\anaconda3\\innomatics\\Lib\\site-packages\\conda_index-0.3.0.dist-info due to invalid metadata entry 'name'\n",
      "WARNING: Skipping C:\\Users\\SK\\anaconda3\\innomatics\\Lib\\site-packages\\conda_repo_cli-1.0.75-py3.11.egg-info due to invalid metadata entry 'name'\n",
      "WARNING: Skipping C:\\Users\\SK\\anaconda3\\innomatics\\Lib\\site-packages\\constantly-15.1.0-py3.11.egg-info due to invalid metadata entry 'name'\n",
      "WARNING: Skipping C:\\Users\\SK\\anaconda3\\innomatics\\Lib\\site-packages\\contourpy-1.0.5.dist-info due to invalid metadata entry 'name'\n",
      "WARNING: Skipping C:\\Users\\SK\\anaconda3\\innomatics\\Lib\\site-packages\\cookiecutter-1.7.3.dist-info due to invalid metadata entry 'name'\n",
      "WARNING: Skipping C:\\Users\\SK\\anaconda3\\innomatics\\Lib\\site-packages\\cryptography-41.0.3.dist-info due to invalid metadata entry 'name'\n",
      "WARNING: Skipping C:\\Users\\SK\\anaconda3\\innomatics\\Lib\\site-packages\\cssselect-1.1.0-py3.9.egg-info due to invalid metadata entry 'name'\n",
      "WARNING: Skipping C:\\Users\\SK\\anaconda3\\innomatics\\Lib\\site-packages\\cytoolz-0.12.0.dist-info due to invalid metadata entry 'name'\n",
      "WARNING: Skipping C:\\Users\\SK\\anaconda3\\innomatics\\Lib\\site-packages\\dask-2023.6.0.dist-info due to invalid metadata entry 'name'\n",
      "WARNING: Skipping C:\\Users\\SK\\anaconda3\\innomatics\\Lib\\site-packages\\datashape-0.5.4-py3.11.egg-info due to invalid metadata entry 'name'\n",
      "WARNING: Skipping C:\\Users\\SK\\anaconda3\\innomatics\\Lib\\site-packages\\dill-0.3.6.dist-info due to invalid metadata entry 'name'\n",
      "WARNING: Skipping C:\\Users\\SK\\anaconda3\\innomatics\\Lib\\site-packages\\distributed-2023.6.0.dist-info due to invalid metadata entry 'name'\n",
      "WARNING: Skipping C:\\Users\\SK\\anaconda3\\innomatics\\Lib\\site-packages\\filelock-3.9.0.dist-info due to invalid metadata entry 'name'\n",
      "WARNING: Skipping C:\\Users\\SK\\anaconda3\\innomatics\\Lib\\site-packages\\flake8-6.0.0.dist-info due to invalid metadata entry 'name'\n",
      "WARNING: Skipping C:\\Users\\SK\\anaconda3\\innomatics\\Lib\\site-packages\\Flask-2.2.2.dist-info due to invalid metadata entry 'name'\n",
      "WARNING: Skipping C:\\Users\\SK\\anaconda3\\innomatics\\Lib\\site-packages\\fonttools-4.25.0-py3.9.egg-info due to invalid metadata entry 'name'\n",
      "WARNING: Skipping C:\\Users\\SK\\anaconda3\\innomatics\\Lib\\site-packages\\frozenlist-1.3.3.dist-info due to invalid metadata entry 'name'\n",
      "WARNING: Skipping C:\\Users\\SK\\anaconda3\\innomatics\\Lib\\site-packages\\fsspec-2023.4.0.dist-info due to invalid metadata entry 'name'\n",
      "WARNING: Skipping C:\\Users\\SK\\anaconda3\\innomatics\\Lib\\site-packages\\greenlet-2.0.1.dist-info due to invalid metadata entry 'name'\n",
      "WARNING: Skipping C:\\Users\\SK\\anaconda3\\innomatics\\Lib\\site-packages\\h5py-3.9.0.dist-info due to invalid metadata entry 'name'\n",
      "WARNING: Skipping C:\\Users\\SK\\anaconda3\\innomatics\\Lib\\site-packages\\huggingface_hub-0.15.1.dist-info due to invalid metadata entry 'name'\n",
      "WARNING: Skipping C:\\Users\\SK\\anaconda3\\innomatics\\Lib\\site-packages\\idna-3.4.dist-info due to invalid metadata entry 'name'\n",
      "WARNING: Skipping C:\\Users\\SK\\anaconda3\\innomatics\\Lib\\site-packages\\imageio-2.26.0.dist-info due to invalid metadata entry 'name'\n",
      "WARNING: Skipping C:\\Users\\SK\\anaconda3\\innomatics\\Lib\\site-packages\\importlib_metadata-6.0.0.dist-info due to invalid metadata entry 'name'\n",
      "WARNING: Skipping C:\\Users\\SK\\anaconda3\\innomatics\\Lib\\site-packages\\incremental-21.3.0.dist-info due to invalid metadata entry 'name'\n",
      "WARNING: Skipping C:\\Users\\SK\\anaconda3\\innomatics\\Lib\\site-packages\\ipykernel-6.25.0.dist-info due to invalid metadata entry 'name'\n",
      "WARNING: Skipping C:\\Users\\SK\\anaconda3\\innomatics\\Lib\\site-packages\\ipython-8.15.0.dist-info due to invalid metadata entry 'name'\n",
      "WARNING: Skipping C:\\Users\\SK\\anaconda3\\innomatics\\Lib\\site-packages\\ipywidgets-8.0.4.dist-info due to invalid metadata entry 'name'\n",
      "WARNING: Skipping C:\\Users\\SK\\anaconda3\\innomatics\\Lib\\site-packages\\itemloaders-1.0.4.dist-info due to invalid metadata entry 'name'\n",
      "WARNING: Skipping C:\\Users\\SK\\anaconda3\\innomatics\\Lib\\site-packages\\Jinja2-3.1.2.dist-info due to invalid metadata entry 'name'\n",
      "WARNING: Skipping C:\\Users\\SK\\anaconda3\\innomatics\\Lib\\site-packages\\jinja2_time-0.2.0.dist-info due to invalid metadata entry 'name'\n",
      "WARNING: Skipping C:\\Users\\SK\\anaconda3\\innomatics\\Lib\\site-packages\\jmespath-0.10.0.dist-info due to invalid metadata entry 'name'\n",
      "WARNING: Skipping C:\\Users\\SK\\anaconda3\\innomatics\\Lib\\site-packages\\joblib-1.2.0.dist-info due to invalid metadata entry 'name'\n",
      "WARNING: Skipping C:\\Users\\SK\\anaconda3\\innomatics\\Lib\\site-packages\\jsonpatch-1.32.dist-info due to invalid metadata entry 'name'\n",
      "WARNING: Skipping C:\\Users\\SK\\anaconda3\\innomatics\\Lib\\site-packages\\jupyter_core-5.3.0.dist-info due to invalid metadata entry 'name'\n",
      "WARNING: Skipping C:\\Users\\SK\\anaconda3\\innomatics\\Lib\\site-packages\\jupyter_events-0.6.3.dist-info due to invalid metadata entry 'name'\n",
      "WARNING: Skipping C:\\Users\\SK\\anaconda3\\innomatics\\Lib\\site-packages\\jupyter_server_fileid-0.9.0.dist-info due to invalid metadata entry 'name'\n",
      "WARNING: Skipping C:\\Users\\SK\\anaconda3\\innomatics\\Lib\\site-packages\\jupyter_server_ydoc-0.8.0.dist-info due to invalid metadata entry 'name'\n",
      "WARNING: Skipping C:\\Users\\SK\\anaconda3\\innomatics\\Lib\\site-packages\\jupyter_ydoc-0.2.4.dist-info due to invalid metadata entry 'name'\n",
      "WARNING: Skipping C:\\Users\\SK\\anaconda3\\innomatics\\Lib\\site-packages\\keyring-23.13.1.dist-info due to invalid metadata entry 'name'\n",
      "WARNING: Skipping C:\\Users\\SK\\anaconda3\\innomatics\\Lib\\site-packages\\lazy_loader-0.2.dist-info due to invalid metadata entry 'name'\n",
      "WARNING: Skipping C:\\Users\\SK\\anaconda3\\innomatics\\Lib\\site-packages\\lazy_object_proxy-1.6.0.dist-info due to invalid metadata entry 'name'\n",
      "WARNING: Skipping C:\\Users\\SK\\anaconda3\\innomatics\\Lib\\site-packages\\libmambapy-1.5.1.dist-info due to invalid metadata entry 'name'\n",
      "WARNING: Skipping C:\\Users\\SK\\anaconda3\\innomatics\\Lib\\site-packages\\llvmlite-0.40.0.dist-info due to invalid metadata entry 'name'\n",
      "WARNING: Skipping C:\\Users\\SK\\anaconda3\\innomatics\\Lib\\site-packages\\MarkupSafe-2.1.1.dist-info due to invalid metadata entry 'name'\n",
      "WARNING: Skipping C:\\Users\\SK\\anaconda3\\innomatics\\Lib\\site-packages\\mistune-0.8.4.dist-info due to invalid metadata entry 'name'\n",
      "WARNING: Skipping C:\\Users\\SK\\anaconda3\\innomatics\\Lib\\site-packages\\more_itertools-8.12.0.dist-info due to invalid metadata entry 'name'\n",
      "WARNING: Skipping C:\\Users\\SK\\anaconda3\\innomatics\\Lib\\site-packages\\multidict-6.0.2.dist-info due to invalid metadata entry 'name'\n",
      "WARNING: Skipping C:\\Users\\SK\\anaconda3\\innomatics\\Lib\\site-packages\\multiprocess-0.70.14.dist-info due to invalid metadata entry 'name'\n",
      "WARNING: Skipping C:\\Users\\SK\\anaconda3\\innomatics\\Lib\\site-packages\\munkres-1.1.4-py3.6.egg-info due to invalid metadata entry 'name'\n",
      "WARNING: Skipping C:\\Users\\SK\\anaconda3\\innomatics\\Lib\\site-packages\\navigator_updater-0.4.0.dist-info due to invalid metadata entry 'name'\n",
      "WARNING: Skipping C:\\Users\\SK\\anaconda3\\innomatics\\Lib\\site-packages\\nbclassic-0.5.5.dist-info due to invalid metadata entry 'name'\n",
      "WARNING: Skipping C:\\Users\\SK\\anaconda3\\innomatics\\Lib\\site-packages\\nbclient-0.5.13.dist-info due to invalid metadata entry 'name'\n",
      "WARNING: Skipping C:\\Users\\SK\\anaconda3\\innomatics\\Lib\\site-packages\\nbconvert-6.5.4.dist-info due to invalid metadata entry 'name'\n",
      "WARNING: Skipping C:\\Users\\SK\\anaconda3\\innomatics\\Lib\\site-packages\\nest_asyncio-1.5.6.dist-info due to invalid metadata entry 'name'\n",
      "WARNING: Skipping C:\\Users\\SK\\anaconda3\\innomatics\\Lib\\site-packages\\notebook_shim-0.2.2.dist-info due to invalid metadata entry 'name'\n",
      "WARNING: Skipping C:\\Users\\SK\\anaconda3\\innomatics\\Lib\\site-packages\\numpy-1.24.3.dist-info due to invalid metadata entry 'name'\n",
      "WARNING: Skipping C:\\Users\\SK\\anaconda3\\innomatics\\Lib\\site-packages\\packaging-23.1.dist-info due to invalid metadata entry 'name'\n",
      "WARNING: Skipping C:\\Users\\SK\\anaconda3\\innomatics\\Lib\\site-packages\\param-1.13.0.dist-info due to invalid metadata entry 'name'\n",
      "WARNING: Skipping C:\\Users\\SK\\anaconda3\\innomatics\\Lib\\site-packages\\parsel-1.6.0.dist-info due to invalid metadata entry 'name'\n",
      "WARNING: Skipping C:\\Users\\SK\\anaconda3\\innomatics\\Lib\\site-packages\\partd-1.4.0.dist-info due to invalid metadata entry 'name'\n",
      "WARNING: Skipping C:\\Users\\SK\\anaconda3\\innomatics\\Lib\\site-packages\\pathlib-1.0.1.dist-info due to invalid metadata entry 'name'\n",
      "WARNING: Skipping C:\\Users\\SK\\anaconda3\\innomatics\\Lib\\site-packages\\pillow-10.2.0.dist-info due to invalid metadata entry 'name'\n",
      "WARNING: Skipping C:\\Users\\SK\\anaconda3\\innomatics\\Lib\\site-packages\\plotly-5.9.0.dist-info due to invalid metadata entry 'name'\n",
      "WARNING: Skipping C:\\Users\\SK\\anaconda3\\innomatics\\Lib\\site-packages\\poyo-0.5.0.dist-info due to invalid metadata entry 'name'\n",
      "WARNING: Skipping C:\\Users\\SK\\anaconda3\\innomatics\\Lib\\site-packages\\prompt_toolkit-3.0.36.dist-info due to invalid metadata entry 'name'\n",
      "WARNING: Skipping C:\\Users\\SK\\anaconda3\\innomatics\\Lib\\site-packages\\pycodestyle-2.10.0.dist-info due to invalid metadata entry 'name'\n",
      "WARNING: Skipping C:\\Users\\SK\\anaconda3\\innomatics\\Lib\\site-packages\\pycosat-0.6.4.dist-info due to invalid metadata entry 'name'\n",
      "WARNING: Skipping C:\\Users\\SK\\anaconda3\\innomatics\\Lib\\site-packages\\pydantic-1.10.8.dist-info due to invalid metadata entry 'name'\n",
      "WARNING: Skipping C:\\Users\\SK\\anaconda3\\innomatics\\Lib\\site-packages\\pyflakes-3.0.1.dist-info due to invalid metadata entry 'name'\n",
      "WARNING: Skipping C:\\Users\\SK\\anaconda3\\innomatics\\Lib\\site-packages\\PyJWT-2.4.0.dist-info due to invalid metadata entry 'name'\n",
      "WARNING: Skipping C:\\Users\\SK\\anaconda3\\innomatics\\Lib\\site-packages\\pylint_venv-2.3.0.dist-info due to invalid metadata entry 'name'\n",
      "WARNING: Skipping C:\\Users\\SK\\anaconda3\\innomatics\\Lib\\site-packages\\pyodbc-4.0.34.dist-info due to invalid metadata entry 'name'\n",
      "WARNING: Skipping C:\\Users\\SK\\anaconda3\\innomatics\\Lib\\site-packages\\pyOpenSSL-23.2.0.dist-info due to invalid metadata entry 'name'\n",
      "WARNING: Skipping C:\\Users\\SK\\anaconda3\\innomatics\\Lib\\site-packages\\pyrsistent-0.18.0.dist-info due to invalid metadata entry 'name'\n",
      "WARNING: Skipping C:\\Users\\SK\\anaconda3\\innomatics\\Lib\\site-packages\\python_lsp_black-1.2.1.dist-info due to invalid metadata entry 'name'\n",
      "WARNING: Skipping C:\\Users\\SK\\anaconda3\\innomatics\\Lib\\site-packages\\python_lsp_jsonrpc-1.0.0-py3.10.egg-info due to invalid metadata entry 'name'\n",
      "WARNING: Skipping C:\\Users\\SK\\anaconda3\\innomatics\\Lib\\site-packages\\python_lsp_server-1.7.2.dist-info due to invalid metadata entry 'name'\n",
      "WARNING: Skipping C:\\Users\\SK\\anaconda3\\innomatics\\Lib\\site-packages\\pytoolconfig-1.2.5.dist-info due to invalid metadata entry 'name'\n",
      "WARNING: Skipping C:\\Users\\SK\\anaconda3\\innomatics\\Lib\\site-packages\\pytz-2023.3.post1.dist-info due to invalid metadata entry 'name'\n",
      "WARNING: Skipping C:\\Users\\SK\\anaconda3\\innomatics\\Lib\\site-packages\\pyviz_comms-2.3.0.dist-info due to invalid metadata entry 'name'\n",
      "WARNING: Skipping C:\\Users\\SK\\anaconda3\\innomatics\\Lib\\site-packages\\pywin32_ctypes-0.2.0.dist-info due to invalid metadata entry 'name'\n",
      "WARNING: Skipping C:\\Users\\SK\\anaconda3\\innomatics\\Lib\\site-packages\\PyYAML-6.0.dist-info due to invalid metadata entry 'name'\n",
      "WARNING: Skipping C:\\Users\\SK\\anaconda3\\innomatics\\Lib\\site-packages\\py_cpuinfo-8.0.0.dist-info due to invalid metadata entry 'name'\n",
      "WARNING: Skipping C:\\Users\\SK\\anaconda3\\innomatics\\Lib\\site-packages\\QDarkStyle-3.0.2.dist-info due to invalid metadata entry 'name'\n",
      "WARNING: Skipping C:\\Users\\SK\\anaconda3\\innomatics\\Lib\\site-packages\\qtconsole-5.4.2.dist-info due to invalid metadata entry 'name'\n",
      "WARNING: Skipping C:\\Users\\SK\\anaconda3\\innomatics\\Lib\\site-packages\\QtPy-2.2.0.dist-info due to invalid metadata entry 'name'\n",
      "WARNING: Skipping C:\\Users\\SK\\anaconda3\\innomatics\\Lib\\site-packages\\queuelib-1.5.0-py3.11.egg-info due to invalid metadata entry 'name'\n",
      "WARNING: Skipping C:\\Users\\SK\\anaconda3\\innomatics\\Lib\\site-packages\\regex-2022.7.9.dist-info due to invalid metadata entry 'name'\n",
      "WARNING: Skipping C:\\Users\\SK\\anaconda3\\innomatics\\Lib\\site-packages\\responses-0.13.3.dist-info due to invalid metadata entry 'name'\n",
      "WARNING: Skipping C:\\Users\\SK\\anaconda3\\innomatics\\Lib\\site-packages\\rope-1.7.0.dist-info due to invalid metadata entry 'name'\n",
      "WARNING: Skipping C:\\Users\\SK\\anaconda3\\innomatics\\Lib\\site-packages\\s3fs-2023.4.0.dist-info due to invalid metadata entry 'name'\n",
      "WARNING: Skipping C:\\Users\\SK\\anaconda3\\innomatics\\Lib\\site-packages\\safetensors-0.3.2.dist-info due to invalid metadata entry 'name'\n",
      "WARNING: Skipping C:\\Users\\SK\\anaconda3\\innomatics\\Lib\\site-packages\\Scrapy-2.8.0.dist-info due to invalid metadata entry 'name'\n",
      "WARNING: Skipping C:\\Users\\SK\\anaconda3\\innomatics\\Lib\\site-packages\\aiobotocore-2.5.0.dist-info due to invalid metadata entry 'name'\n",
      "WARNING: Skipping C:\\Users\\SK\\anaconda3\\innomatics\\Lib\\site-packages\\aiofiles-22.1.0.dist-info due to invalid metadata entry 'name'\n",
      "WARNING: Skipping C:\\Users\\SK\\anaconda3\\innomatics\\Lib\\site-packages\\aiohttp-3.8.5.dist-info due to invalid metadata entry 'name'\n",
      "WARNING: Skipping C:\\Users\\SK\\anaconda3\\innomatics\\Lib\\site-packages\\aiosqlite-0.18.0.dist-info due to invalid metadata entry 'name'\n",
      "WARNING: Skipping C:\\Users\\SK\\anaconda3\\innomatics\\Lib\\site-packages\\anyio-3.5.0.dist-info due to invalid metadata entry 'name'\n",
      "WARNING: Skipping C:\\Users\\SK\\anaconda3\\innomatics\\Lib\\site-packages\\async_timeout-4.0.2.dist-info due to invalid metadata entry 'name'\n",
      "WARNING: Skipping C:\\Users\\SK\\anaconda3\\innomatics\\Lib\\site-packages\\autopep8-1.6.0.dist-info due to invalid metadata entry 'name'\n",
      "WARNING: Skipping C:\\Users\\SK\\anaconda3\\innomatics\\Lib\\site-packages\\backcall-0.2.0.dist-info due to invalid metadata entry 'name'\n",
      "WARNING: Skipping C:\\Users\\SK\\anaconda3\\innomatics\\Lib\\site-packages\\black-0.0.dist-info due to invalid metadata entry 'name'\n",
      "WARNING: Skipping C:\\Users\\SK\\anaconda3\\innomatics\\Lib\\site-packages\\botocore-1.29.76.dist-info due to invalid metadata entry 'name'\n",
      "WARNING: Skipping C:\\Users\\SK\\anaconda3\\innomatics\\Lib\\site-packages\\Bottleneck-1.3.5.dist-info due to invalid metadata entry 'name'\n",
      "WARNING: Skipping C:\\Users\\SK\\anaconda3\\innomatics\\Lib\\site-packages\\brotlipy-0.7.0-py3.11.egg-info due to invalid metadata entry 'name'\n",
      "WARNING: Skipping C:\\Users\\SK\\anaconda3\\innomatics\\Lib\\site-packages\\cffi-1.15.1.dist-info due to invalid metadata entry 'name'\n",
      "WARNING: Skipping C:\\Users\\SK\\anaconda3\\innomatics\\Lib\\site-packages\\click-8.0.4.dist-info due to invalid metadata entry 'name'\n",
      "WARNING: Skipping C:\\Users\\SK\\anaconda3\\innomatics\\Lib\\site-packages\\colorcet-3.0.1.dist-info due to invalid metadata entry 'name'\n",
      "WARNING: Skipping C:\\Users\\SK\\anaconda3\\innomatics\\Lib\\site-packages\\comm-0.1.2.dist-info due to invalid metadata entry 'name'\n",
      "WARNING: Skipping C:\\Users\\SK\\anaconda3\\innomatics\\Lib\\site-packages\\conda_index-0.3.0.dist-info due to invalid metadata entry 'name'\n",
      "WARNING: Skipping C:\\Users\\SK\\anaconda3\\innomatics\\Lib\\site-packages\\conda_repo_cli-1.0.75-py3.11.egg-info due to invalid metadata entry 'name'\n",
      "WARNING: Skipping C:\\Users\\SK\\anaconda3\\innomatics\\Lib\\site-packages\\constantly-15.1.0-py3.11.egg-info due to invalid metadata entry 'name'\n",
      "WARNING: Skipping C:\\Users\\SK\\anaconda3\\innomatics\\Lib\\site-packages\\contourpy-1.0.5.dist-info due to invalid metadata entry 'name'\n",
      "WARNING: Skipping C:\\Users\\SK\\anaconda3\\innomatics\\Lib\\site-packages\\cookiecutter-1.7.3.dist-info due to invalid metadata entry 'name'\n",
      "WARNING: Skipping C:\\Users\\SK\\anaconda3\\innomatics\\Lib\\site-packages\\cryptography-41.0.3.dist-info due to invalid metadata entry 'name'\n",
      "WARNING: Skipping C:\\Users\\SK\\anaconda3\\innomatics\\Lib\\site-packages\\cssselect-1.1.0-py3.9.egg-info due to invalid metadata entry 'name'\n",
      "WARNING: Skipping C:\\Users\\SK\\anaconda3\\innomatics\\Lib\\site-packages\\cytoolz-0.12.0.dist-info due to invalid metadata entry 'name'\n",
      "WARNING: Skipping C:\\Users\\SK\\anaconda3\\innomatics\\Lib\\site-packages\\dask-2023.6.0.dist-info due to invalid metadata entry 'name'\n",
      "WARNING: Skipping C:\\Users\\SK\\anaconda3\\innomatics\\Lib\\site-packages\\datashape-0.5.4-py3.11.egg-info due to invalid metadata entry 'name'\n",
      "WARNING: Skipping C:\\Users\\SK\\anaconda3\\innomatics\\Lib\\site-packages\\dill-0.3.6.dist-info due to invalid metadata entry 'name'\n",
      "WARNING: Skipping C:\\Users\\SK\\anaconda3\\innomatics\\Lib\\site-packages\\distributed-2023.6.0.dist-info due to invalid metadata entry 'name'\n",
      "WARNING: Skipping C:\\Users\\SK\\anaconda3\\innomatics\\Lib\\site-packages\\filelock-3.9.0.dist-info due to invalid metadata entry 'name'\n",
      "WARNING: Skipping C:\\Users\\SK\\anaconda3\\innomatics\\Lib\\site-packages\\flake8-6.0.0.dist-info due to invalid metadata entry 'name'\n",
      "WARNING: Skipping C:\\Users\\SK\\anaconda3\\innomatics\\Lib\\site-packages\\Flask-2.2.2.dist-info due to invalid metadata entry 'name'\n",
      "WARNING: Skipping C:\\Users\\SK\\anaconda3\\innomatics\\Lib\\site-packages\\fonttools-4.25.0-py3.9.egg-info due to invalid metadata entry 'name'\n",
      "WARNING: Skipping C:\\Users\\SK\\anaconda3\\innomatics\\Lib\\site-packages\\frozenlist-1.3.3.dist-info due to invalid metadata entry 'name'\n",
      "WARNING: Skipping C:\\Users\\SK\\anaconda3\\innomatics\\Lib\\site-packages\\fsspec-2023.4.0.dist-info due to invalid metadata entry 'name'\n",
      "WARNING: Skipping C:\\Users\\SK\\anaconda3\\innomatics\\Lib\\site-packages\\greenlet-2.0.1.dist-info due to invalid metadata entry 'name'\n",
      "WARNING: Skipping C:\\Users\\SK\\anaconda3\\innomatics\\Lib\\site-packages\\h5py-3.9.0.dist-info due to invalid metadata entry 'name'\n",
      "WARNING: Skipping C:\\Users\\SK\\anaconda3\\innomatics\\Lib\\site-packages\\huggingface_hub-0.15.1.dist-info due to invalid metadata entry 'name'\n",
      "WARNING: Skipping C:\\Users\\SK\\anaconda3\\innomatics\\Lib\\site-packages\\idna-3.4.dist-info due to invalid metadata entry 'name'\n",
      "WARNING: Skipping C:\\Users\\SK\\anaconda3\\innomatics\\Lib\\site-packages\\imageio-2.26.0.dist-info due to invalid metadata entry 'name'\n",
      "WARNING: Skipping C:\\Users\\SK\\anaconda3\\innomatics\\Lib\\site-packages\\importlib_metadata-6.0.0.dist-info due to invalid metadata entry 'name'\n",
      "WARNING: Skipping C:\\Users\\SK\\anaconda3\\innomatics\\Lib\\site-packages\\incremental-21.3.0.dist-info due to invalid metadata entry 'name'\n",
      "WARNING: Skipping C:\\Users\\SK\\anaconda3\\innomatics\\Lib\\site-packages\\ipykernel-6.25.0.dist-info due to invalid metadata entry 'name'\n",
      "WARNING: Skipping C:\\Users\\SK\\anaconda3\\innomatics\\Lib\\site-packages\\ipython-8.15.0.dist-info due to invalid metadata entry 'name'\n",
      "WARNING: Skipping C:\\Users\\SK\\anaconda3\\innomatics\\Lib\\site-packages\\ipywidgets-8.0.4.dist-info due to invalid metadata entry 'name'\n",
      "WARNING: Skipping C:\\Users\\SK\\anaconda3\\innomatics\\Lib\\site-packages\\itemloaders-1.0.4.dist-info due to invalid metadata entry 'name'\n",
      "WARNING: Skipping C:\\Users\\SK\\anaconda3\\innomatics\\Lib\\site-packages\\Jinja2-3.1.2.dist-info due to invalid metadata entry 'name'\n",
      "WARNING: Skipping C:\\Users\\SK\\anaconda3\\innomatics\\Lib\\site-packages\\jinja2_time-0.2.0.dist-info due to invalid metadata entry 'name'\n",
      "WARNING: Skipping C:\\Users\\SK\\anaconda3\\innomatics\\Lib\\site-packages\\jmespath-0.10.0.dist-info due to invalid metadata entry 'name'\n",
      "WARNING: Skipping C:\\Users\\SK\\anaconda3\\innomatics\\Lib\\site-packages\\joblib-1.2.0.dist-info due to invalid metadata entry 'name'\n",
      "WARNING: Skipping C:\\Users\\SK\\anaconda3\\innomatics\\Lib\\site-packages\\jsonpatch-1.32.dist-info due to invalid metadata entry 'name'\n",
      "WARNING: Skipping C:\\Users\\SK\\anaconda3\\innomatics\\Lib\\site-packages\\jupyter_core-5.3.0.dist-info due to invalid metadata entry 'name'\n",
      "WARNING: Skipping C:\\Users\\SK\\anaconda3\\innomatics\\Lib\\site-packages\\jupyter_events-0.6.3.dist-info due to invalid metadata entry 'name'\n",
      "WARNING: Skipping C:\\Users\\SK\\anaconda3\\innomatics\\Lib\\site-packages\\jupyter_server_fileid-0.9.0.dist-info due to invalid metadata entry 'name'\n",
      "WARNING: Skipping C:\\Users\\SK\\anaconda3\\innomatics\\Lib\\site-packages\\jupyter_server_ydoc-0.8.0.dist-info due to invalid metadata entry 'name'\n",
      "WARNING: Skipping C:\\Users\\SK\\anaconda3\\innomatics\\Lib\\site-packages\\jupyter_ydoc-0.2.4.dist-info due to invalid metadata entry 'name'\n",
      "WARNING: Skipping C:\\Users\\SK\\anaconda3\\innomatics\\Lib\\site-packages\\keyring-23.13.1.dist-info due to invalid metadata entry 'name'\n",
      "WARNING: Skipping C:\\Users\\SK\\anaconda3\\innomatics\\Lib\\site-packages\\lazy_loader-0.2.dist-info due to invalid metadata entry 'name'\n",
      "WARNING: Skipping C:\\Users\\SK\\anaconda3\\innomatics\\Lib\\site-packages\\lazy_object_proxy-1.6.0.dist-info due to invalid metadata entry 'name'\n",
      "WARNING: Skipping C:\\Users\\SK\\anaconda3\\innomatics\\Lib\\site-packages\\libmambapy-1.5.1.dist-info due to invalid metadata entry 'name'\n",
      "WARNING: Skipping C:\\Users\\SK\\anaconda3\\innomatics\\Lib\\site-packages\\llvmlite-0.40.0.dist-info due to invalid metadata entry 'name'\n",
      "WARNING: Skipping C:\\Users\\SK\\anaconda3\\innomatics\\Lib\\site-packages\\MarkupSafe-2.1.1.dist-info due to invalid metadata entry 'name'\n",
      "WARNING: Skipping C:\\Users\\SK\\anaconda3\\innomatics\\Lib\\site-packages\\mistune-0.8.4.dist-info due to invalid metadata entry 'name'\n",
      "WARNING: Skipping C:\\Users\\SK\\anaconda3\\innomatics\\Lib\\site-packages\\more_itertools-8.12.0.dist-info due to invalid metadata entry 'name'\n",
      "WARNING: Skipping C:\\Users\\SK\\anaconda3\\innomatics\\Lib\\site-packages\\multidict-6.0.2.dist-info due to invalid metadata entry 'name'\n",
      "WARNING: Skipping C:\\Users\\SK\\anaconda3\\innomatics\\Lib\\site-packages\\multiprocess-0.70.14.dist-info due to invalid metadata entry 'name'\n",
      "WARNING: Skipping C:\\Users\\SK\\anaconda3\\innomatics\\Lib\\site-packages\\munkres-1.1.4-py3.6.egg-info due to invalid metadata entry 'name'\n",
      "WARNING: Skipping C:\\Users\\SK\\anaconda3\\innomatics\\Lib\\site-packages\\navigator_updater-0.4.0.dist-info due to invalid metadata entry 'name'\n",
      "WARNING: Skipping C:\\Users\\SK\\anaconda3\\innomatics\\Lib\\site-packages\\nbclassic-0.5.5.dist-info due to invalid metadata entry 'name'\n",
      "WARNING: Skipping C:\\Users\\SK\\anaconda3\\innomatics\\Lib\\site-packages\\nbclient-0.5.13.dist-info due to invalid metadata entry 'name'\n",
      "WARNING: Skipping C:\\Users\\SK\\anaconda3\\innomatics\\Lib\\site-packages\\nbconvert-6.5.4.dist-info due to invalid metadata entry 'name'\n",
      "WARNING: Skipping C:\\Users\\SK\\anaconda3\\innomatics\\Lib\\site-packages\\nest_asyncio-1.5.6.dist-info due to invalid metadata entry 'name'\n",
      "WARNING: Skipping C:\\Users\\SK\\anaconda3\\innomatics\\Lib\\site-packages\\notebook_shim-0.2.2.dist-info due to invalid metadata entry 'name'\n",
      "WARNING: Skipping C:\\Users\\SK\\anaconda3\\innomatics\\Lib\\site-packages\\numpy-1.24.3.dist-info due to invalid metadata entry 'name'\n",
      "WARNING: Skipping C:\\Users\\SK\\anaconda3\\innomatics\\Lib\\site-packages\\packaging-23.1.dist-info due to invalid metadata entry 'name'\n",
      "WARNING: Skipping C:\\Users\\SK\\anaconda3\\innomatics\\Lib\\site-packages\\param-1.13.0.dist-info due to invalid metadata entry 'name'\n",
      "WARNING: Skipping C:\\Users\\SK\\anaconda3\\innomatics\\Lib\\site-packages\\parsel-1.6.0.dist-info due to invalid metadata entry 'name'\n",
      "WARNING: Skipping C:\\Users\\SK\\anaconda3\\innomatics\\Lib\\site-packages\\partd-1.4.0.dist-info due to invalid metadata entry 'name'\n",
      "WARNING: Skipping C:\\Users\\SK\\anaconda3\\innomatics\\Lib\\site-packages\\pathlib-1.0.1.dist-info due to invalid metadata entry 'name'\n",
      "WARNING: Skipping C:\\Users\\SK\\anaconda3\\innomatics\\Lib\\site-packages\\pillow-10.2.0.dist-info due to invalid metadata entry 'name'\n",
      "WARNING: Skipping C:\\Users\\SK\\anaconda3\\innomatics\\Lib\\site-packages\\plotly-5.9.0.dist-info due to invalid metadata entry 'name'\n",
      "WARNING: Skipping C:\\Users\\SK\\anaconda3\\innomatics\\Lib\\site-packages\\poyo-0.5.0.dist-info due to invalid metadata entry 'name'\n",
      "WARNING: Skipping C:\\Users\\SK\\anaconda3\\innomatics\\Lib\\site-packages\\prompt_toolkit-3.0.36.dist-info due to invalid metadata entry 'name'\n",
      "WARNING: Skipping C:\\Users\\SK\\anaconda3\\innomatics\\Lib\\site-packages\\pycodestyle-2.10.0.dist-info due to invalid metadata entry 'name'\n",
      "WARNING: Skipping C:\\Users\\SK\\anaconda3\\innomatics\\Lib\\site-packages\\pycosat-0.6.4.dist-info due to invalid metadata entry 'name'\n",
      "WARNING: Skipping C:\\Users\\SK\\anaconda3\\innomatics\\Lib\\site-packages\\pydantic-1.10.8.dist-info due to invalid metadata entry 'name'\n",
      "WARNING: Skipping C:\\Users\\SK\\anaconda3\\innomatics\\Lib\\site-packages\\pyflakes-3.0.1.dist-info due to invalid metadata entry 'name'\n",
      "WARNING: Skipping C:\\Users\\SK\\anaconda3\\innomatics\\Lib\\site-packages\\PyJWT-2.4.0.dist-info due to invalid metadata entry 'name'\n",
      "WARNING: Skipping C:\\Users\\SK\\anaconda3\\innomatics\\Lib\\site-packages\\pylint_venv-2.3.0.dist-info due to invalid metadata entry 'name'\n",
      "WARNING: Skipping C:\\Users\\SK\\anaconda3\\innomatics\\Lib\\site-packages\\pyodbc-4.0.34.dist-info due to invalid metadata entry 'name'\n",
      "WARNING: Skipping C:\\Users\\SK\\anaconda3\\innomatics\\Lib\\site-packages\\pyOpenSSL-23.2.0.dist-info due to invalid metadata entry 'name'\n",
      "WARNING: Skipping C:\\Users\\SK\\anaconda3\\innomatics\\Lib\\site-packages\\pyrsistent-0.18.0.dist-info due to invalid metadata entry 'name'\n",
      "WARNING: Skipping C:\\Users\\SK\\anaconda3\\innomatics\\Lib\\site-packages\\python_lsp_black-1.2.1.dist-info due to invalid metadata entry 'name'\n",
      "WARNING: Skipping C:\\Users\\SK\\anaconda3\\innomatics\\Lib\\site-packages\\python_lsp_jsonrpc-1.0.0-py3.10.egg-info due to invalid metadata entry 'name'\n",
      "WARNING: Skipping C:\\Users\\SK\\anaconda3\\innomatics\\Lib\\site-packages\\python_lsp_server-1.7.2.dist-info due to invalid metadata entry 'name'\n",
      "WARNING: Skipping C:\\Users\\SK\\anaconda3\\innomatics\\Lib\\site-packages\\pytoolconfig-1.2.5.dist-info due to invalid metadata entry 'name'\n",
      "WARNING: Skipping C:\\Users\\SK\\anaconda3\\innomatics\\Lib\\site-packages\\pytz-2023.3.post1.dist-info due to invalid metadata entry 'name'\n",
      "WARNING: Skipping C:\\Users\\SK\\anaconda3\\innomatics\\Lib\\site-packages\\pyviz_comms-2.3.0.dist-info due to invalid metadata entry 'name'\n",
      "WARNING: Skipping C:\\Users\\SK\\anaconda3\\innomatics\\Lib\\site-packages\\pywin32_ctypes-0.2.0.dist-info due to invalid metadata entry 'name'\n",
      "WARNING: Skipping C:\\Users\\SK\\anaconda3\\innomatics\\Lib\\site-packages\\PyYAML-6.0.dist-info due to invalid metadata entry 'name'\n",
      "WARNING: Skipping C:\\Users\\SK\\anaconda3\\innomatics\\Lib\\site-packages\\py_cpuinfo-8.0.0.dist-info due to invalid metadata entry 'name'\n",
      "WARNING: Skipping C:\\Users\\SK\\anaconda3\\innomatics\\Lib\\site-packages\\QDarkStyle-3.0.2.dist-info due to invalid metadata entry 'name'\n",
      "WARNING: Skipping C:\\Users\\SK\\anaconda3\\innomatics\\Lib\\site-packages\\qtconsole-5.4.2.dist-info due to invalid metadata entry 'name'\n",
      "WARNING: Skipping C:\\Users\\SK\\anaconda3\\innomatics\\Lib\\site-packages\\QtPy-2.2.0.dist-info due to invalid metadata entry 'name'\n",
      "WARNING: Skipping C:\\Users\\SK\\anaconda3\\innomatics\\Lib\\site-packages\\queuelib-1.5.0-py3.11.egg-info due to invalid metadata entry 'name'\n",
      "WARNING: Skipping C:\\Users\\SK\\anaconda3\\innomatics\\Lib\\site-packages\\regex-2022.7.9.dist-info due to invalid metadata entry 'name'\n",
      "WARNING: Skipping C:\\Users\\SK\\anaconda3\\innomatics\\Lib\\site-packages\\responses-0.13.3.dist-info due to invalid metadata entry 'name'\n",
      "WARNING: Skipping C:\\Users\\SK\\anaconda3\\innomatics\\Lib\\site-packages\\rope-1.7.0.dist-info due to invalid metadata entry 'name'\n",
      "WARNING: Skipping C:\\Users\\SK\\anaconda3\\innomatics\\Lib\\site-packages\\s3fs-2023.4.0.dist-info due to invalid metadata entry 'name'\n",
      "WARNING: Skipping C:\\Users\\SK\\anaconda3\\innomatics\\Lib\\site-packages\\safetensors-0.3.2.dist-info due to invalid metadata entry 'name'\n",
      "WARNING: Skipping C:\\Users\\SK\\anaconda3\\innomatics\\Lib\\site-packages\\Scrapy-2.8.0.dist-info due to invalid metadata entry 'name'\n",
      "WARNING: Skipping C:\\Users\\SK\\anaconda3\\innomatics\\Lib\\site-packages\\sniffio-1.2.0.dist-info due to invalid metadata entry 'name'\n",
      "WARNING: Skipping C:\\Users\\SK\\anaconda3\\innomatics\\Lib\\site-packages\\soupsieve-2.4.dist-info due to invalid metadata entry 'name'\n",
      "WARNING: Skipping C:\\Users\\SK\\anaconda3\\innomatics\\Lib\\site-packages\\spyder-5.4.3.dist-info due to invalid metadata entry 'name'\n",
      "WARNING: Skipping C:\\Users\\SK\\anaconda3\\innomatics\\Lib\\site-packages\\spyder_kernels-2.4.4.dist-info due to invalid metadata entry 'name'\n",
      "WARNING: Skipping C:\\Users\\SK\\anaconda3\\innomatics\\Lib\\site-packages\\SQLAlchemy-1.4.39.dist-info due to invalid metadata entry 'name'\n",
      "WARNING: Skipping C:\\Users\\SK\\anaconda3\\innomatics\\Lib\\site-packages\\sympy-1.11.1.dist-info due to invalid metadata entry 'name'\n",
      "WARNING: Skipping C:\\Users\\SK\\anaconda3\\innomatics\\Lib\\site-packages\\tabulate-0.8.10.dist-info due to invalid metadata entry 'name'\n",
      "WARNING: Skipping C:\\Users\\SK\\anaconda3\\innomatics\\Lib\\site-packages\\tokenizers-0.13.2.dist-info due to invalid metadata entry 'name'\n",
      "WARNING: Skipping C:\\Users\\SK\\anaconda3\\innomatics\\Lib\\site-packages\\tornado-6.3.2.dist-info due to invalid metadata entry 'name'\n",
      "WARNING: Skipping C:\\Users\\SK\\anaconda3\\innomatics\\Lib\\site-packages\\tqdm-4.65.0.dist-info due to invalid metadata entry 'name'\n",
      "WARNING: Skipping C:\\Users\\SK\\anaconda3\\innomatics\\Lib\\site-packages\\Twisted-22.10.0.dist-info due to invalid metadata entry 'name'\n",
      "WARNING: Skipping C:\\Users\\SK\\anaconda3\\innomatics\\Lib\\site-packages\\typing_extensions-4.7.1.dist-info due to invalid metadata entry 'name'\n",
      "WARNING: Skipping C:\\Users\\SK\\anaconda3\\innomatics\\Lib\\site-packages\\urllib3-1.26.16.dist-info due to invalid metadata entry 'name'\n",
      "WARNING: Skipping C:\\Users\\SK\\anaconda3\\innomatics\\Lib\\site-packages\\w3lib-1.21.0.dist-info due to invalid metadata entry 'name'\n",
      "WARNING: Skipping C:\\Users\\SK\\anaconda3\\innomatics\\Lib\\site-packages\\widgetsnbextension-4.0.5.dist-info due to invalid metadata entry 'name'\n",
      "WARNING: Skipping C:\\Users\\SK\\anaconda3\\innomatics\\Lib\\site-packages\\xxhash-2.0.2.dist-info due to invalid metadata entry 'name'\n",
      "WARNING: Skipping C:\\Users\\SK\\anaconda3\\innomatics\\Lib\\site-packages\\yapf-0.31.0.dist-info due to invalid metadata entry 'name'\n",
      "WARNING: Skipping C:\\Users\\SK\\anaconda3\\innomatics\\Lib\\site-packages\\yarl-1.8.1.dist-info due to invalid metadata entry 'name'\n",
      "WARNING: Skipping C:\\Users\\SK\\anaconda3\\innomatics\\Lib\\site-packages\\ypy_websocket-0.8.2.dist-info due to invalid metadata entry 'name'\n",
      "WARNING: Skipping C:\\Users\\SK\\anaconda3\\innomatics\\Lib\\site-packages\\y_py-0.5.9.dist-info due to invalid metadata entry 'name'\n",
      "WARNING: Skipping C:\\Users\\SK\\anaconda3\\innomatics\\Lib\\site-packages\\zict-2.2.0.dist-info due to invalid metadata entry 'name'\n",
      "WARNING: Skipping C:\\Users\\SK\\anaconda3\\innomatics\\Lib\\site-packages\\zipp-3.11.0.dist-info due to invalid metadata entry 'name'\n",
      "WARNING: Skipping C:\\Users\\SK\\anaconda3\\innomatics\\Lib\\site-packages\\zstandard-0.19.0-py3.11.egg-info due to invalid metadata entry 'name'\n",
      "WARNING: Skipping C:\\Users\\SK\\anaconda3\\innomatics\\Lib\\site-packages\\aiobotocore-2.5.0.dist-info due to invalid metadata entry 'name'\n",
      "WARNING: Skipping C:\\Users\\SK\\anaconda3\\innomatics\\Lib\\site-packages\\aiofiles-22.1.0.dist-info due to invalid metadata entry 'name'\n",
      "WARNING: Skipping C:\\Users\\SK\\anaconda3\\innomatics\\Lib\\site-packages\\aiohttp-3.8.5.dist-info due to invalid metadata entry 'name'\n",
      "WARNING: Skipping C:\\Users\\SK\\anaconda3\\innomatics\\Lib\\site-packages\\aiosqlite-0.18.0.dist-info due to invalid metadata entry 'name'\n",
      "WARNING: Skipping C:\\Users\\SK\\anaconda3\\innomatics\\Lib\\site-packages\\anyio-3.5.0.dist-info due to invalid metadata entry 'name'\n",
      "WARNING: Skipping C:\\Users\\SK\\anaconda3\\innomatics\\Lib\\site-packages\\async_timeout-4.0.2.dist-info due to invalid metadata entry 'name'\n",
      "WARNING: Skipping C:\\Users\\SK\\anaconda3\\innomatics\\Lib\\site-packages\\autopep8-1.6.0.dist-info due to invalid metadata entry 'name'\n",
      "WARNING: Skipping C:\\Users\\SK\\anaconda3\\innomatics\\Lib\\site-packages\\backcall-0.2.0.dist-info due to invalid metadata entry 'name'\n",
      "WARNING: Skipping C:\\Users\\SK\\anaconda3\\innomatics\\Lib\\site-packages\\black-0.0.dist-info due to invalid metadata entry 'name'\n",
      "WARNING: Skipping C:\\Users\\SK\\anaconda3\\innomatics\\Lib\\site-packages\\botocore-1.29.76.dist-info due to invalid metadata entry 'name'\n",
      "WARNING: Skipping C:\\Users\\SK\\anaconda3\\innomatics\\Lib\\site-packages\\Bottleneck-1.3.5.dist-info due to invalid metadata entry 'name'\n",
      "WARNING: Skipping C:\\Users\\SK\\anaconda3\\innomatics\\Lib\\site-packages\\brotlipy-0.7.0-py3.11.egg-info due to invalid metadata entry 'name'\n",
      "WARNING: Skipping C:\\Users\\SK\\anaconda3\\innomatics\\Lib\\site-packages\\cffi-1.15.1.dist-info due to invalid metadata entry 'name'\n",
      "WARNING: Skipping C:\\Users\\SK\\anaconda3\\innomatics\\Lib\\site-packages\\click-8.0.4.dist-info due to invalid metadata entry 'name'\n",
      "WARNING: Skipping C:\\Users\\SK\\anaconda3\\innomatics\\Lib\\site-packages\\colorcet-3.0.1.dist-info due to invalid metadata entry 'name'\n",
      "WARNING: Skipping C:\\Users\\SK\\anaconda3\\innomatics\\Lib\\site-packages\\comm-0.1.2.dist-info due to invalid metadata entry 'name'\n",
      "WARNING: Skipping C:\\Users\\SK\\anaconda3\\innomatics\\Lib\\site-packages\\conda_index-0.3.0.dist-info due to invalid metadata entry 'name'\n",
      "WARNING: Skipping C:\\Users\\SK\\anaconda3\\innomatics\\Lib\\site-packages\\conda_repo_cli-1.0.75-py3.11.egg-info due to invalid metadata entry 'name'\n",
      "WARNING: Skipping C:\\Users\\SK\\anaconda3\\innomatics\\Lib\\site-packages\\constantly-15.1.0-py3.11.egg-info due to invalid metadata entry 'name'\n",
      "WARNING: Skipping C:\\Users\\SK\\anaconda3\\innomatics\\Lib\\site-packages\\contourpy-1.0.5.dist-info due to invalid metadata entry 'name'\n",
      "WARNING: Skipping C:\\Users\\SK\\anaconda3\\innomatics\\Lib\\site-packages\\cookiecutter-1.7.3.dist-info due to invalid metadata entry 'name'\n",
      "WARNING: Skipping C:\\Users\\SK\\anaconda3\\innomatics\\Lib\\site-packages\\cryptography-41.0.3.dist-info due to invalid metadata entry 'name'\n",
      "WARNING: Skipping C:\\Users\\SK\\anaconda3\\innomatics\\Lib\\site-packages\\cssselect-1.1.0-py3.9.egg-info due to invalid metadata entry 'name'\n",
      "WARNING: Skipping C:\\Users\\SK\\anaconda3\\innomatics\\Lib\\site-packages\\cytoolz-0.12.0.dist-info due to invalid metadata entry 'name'\n",
      "WARNING: Skipping C:\\Users\\SK\\anaconda3\\innomatics\\Lib\\site-packages\\dask-2023.6.0.dist-info due to invalid metadata entry 'name'\n",
      "WARNING: Skipping C:\\Users\\SK\\anaconda3\\innomatics\\Lib\\site-packages\\datashape-0.5.4-py3.11.egg-info due to invalid metadata entry 'name'\n",
      "WARNING: Skipping C:\\Users\\SK\\anaconda3\\innomatics\\Lib\\site-packages\\dill-0.3.6.dist-info due to invalid metadata entry 'name'\n",
      "WARNING: Skipping C:\\Users\\SK\\anaconda3\\innomatics\\Lib\\site-packages\\distributed-2023.6.0.dist-info due to invalid metadata entry 'name'\n",
      "WARNING: Skipping C:\\Users\\SK\\anaconda3\\innomatics\\Lib\\site-packages\\filelock-3.9.0.dist-info due to invalid metadata entry 'name'\n",
      "WARNING: Skipping C:\\Users\\SK\\anaconda3\\innomatics\\Lib\\site-packages\\flake8-6.0.0.dist-info due to invalid metadata entry 'name'\n",
      "WARNING: Skipping C:\\Users\\SK\\anaconda3\\innomatics\\Lib\\site-packages\\Flask-2.2.2.dist-info due to invalid metadata entry 'name'\n",
      "WARNING: Skipping C:\\Users\\SK\\anaconda3\\innomatics\\Lib\\site-packages\\fonttools-4.25.0-py3.9.egg-info due to invalid metadata entry 'name'\n",
      "WARNING: Skipping C:\\Users\\SK\\anaconda3\\innomatics\\Lib\\site-packages\\frozenlist-1.3.3.dist-info due to invalid metadata entry 'name'\n",
      "WARNING: Skipping C:\\Users\\SK\\anaconda3\\innomatics\\Lib\\site-packages\\fsspec-2023.4.0.dist-info due to invalid metadata entry 'name'\n",
      "WARNING: Skipping C:\\Users\\SK\\anaconda3\\innomatics\\Lib\\site-packages\\greenlet-2.0.1.dist-info due to invalid metadata entry 'name'\n",
      "WARNING: Skipping C:\\Users\\SK\\anaconda3\\innomatics\\Lib\\site-packages\\h5py-3.9.0.dist-info due to invalid metadata entry 'name'\n",
      "WARNING: Skipping C:\\Users\\SK\\anaconda3\\innomatics\\Lib\\site-packages\\huggingface_hub-0.15.1.dist-info due to invalid metadata entry 'name'\n",
      "WARNING: Skipping C:\\Users\\SK\\anaconda3\\innomatics\\Lib\\site-packages\\idna-3.4.dist-info due to invalid metadata entry 'name'\n",
      "WARNING: Skipping C:\\Users\\SK\\anaconda3\\innomatics\\Lib\\site-packages\\imageio-2.26.0.dist-info due to invalid metadata entry 'name'\n",
      "WARNING: Skipping C:\\Users\\SK\\anaconda3\\innomatics\\Lib\\site-packages\\importlib_metadata-6.0.0.dist-info due to invalid metadata entry 'name'\n",
      "WARNING: Skipping C:\\Users\\SK\\anaconda3\\innomatics\\Lib\\site-packages\\incremental-21.3.0.dist-info due to invalid metadata entry 'name'\n",
      "WARNING: Skipping C:\\Users\\SK\\anaconda3\\innomatics\\Lib\\site-packages\\ipykernel-6.25.0.dist-info due to invalid metadata entry 'name'\n",
      "WARNING: Skipping C:\\Users\\SK\\anaconda3\\innomatics\\Lib\\site-packages\\ipython-8.15.0.dist-info due to invalid metadata entry 'name'\n",
      "WARNING: Skipping C:\\Users\\SK\\anaconda3\\innomatics\\Lib\\site-packages\\ipywidgets-8.0.4.dist-info due to invalid metadata entry 'name'\n",
      "WARNING: Skipping C:\\Users\\SK\\anaconda3\\innomatics\\Lib\\site-packages\\itemloaders-1.0.4.dist-info due to invalid metadata entry 'name'\n",
      "WARNING: Skipping C:\\Users\\SK\\anaconda3\\innomatics\\Lib\\site-packages\\Jinja2-3.1.2.dist-info due to invalid metadata entry 'name'\n",
      "WARNING: Skipping C:\\Users\\SK\\anaconda3\\innomatics\\Lib\\site-packages\\jinja2_time-0.2.0.dist-info due to invalid metadata entry 'name'\n",
      "WARNING: Skipping C:\\Users\\SK\\anaconda3\\innomatics\\Lib\\site-packages\\jmespath-0.10.0.dist-info due to invalid metadata entry 'name'\n",
      "WARNING: Skipping C:\\Users\\SK\\anaconda3\\innomatics\\Lib\\site-packages\\joblib-1.2.0.dist-info due to invalid metadata entry 'name'\n",
      "WARNING: Skipping C:\\Users\\SK\\anaconda3\\innomatics\\Lib\\site-packages\\jsonpatch-1.32.dist-info due to invalid metadata entry 'name'\n",
      "WARNING: Skipping C:\\Users\\SK\\anaconda3\\innomatics\\Lib\\site-packages\\jupyter_core-5.3.0.dist-info due to invalid metadata entry 'name'\n",
      "WARNING: Skipping C:\\Users\\SK\\anaconda3\\innomatics\\Lib\\site-packages\\jupyter_events-0.6.3.dist-info due to invalid metadata entry 'name'\n",
      "WARNING: Skipping C:\\Users\\SK\\anaconda3\\innomatics\\Lib\\site-packages\\jupyter_server_fileid-0.9.0.dist-info due to invalid metadata entry 'name'\n",
      "WARNING: Skipping C:\\Users\\SK\\anaconda3\\innomatics\\Lib\\site-packages\\jupyter_server_ydoc-0.8.0.dist-info due to invalid metadata entry 'name'\n",
      "WARNING: Skipping C:\\Users\\SK\\anaconda3\\innomatics\\Lib\\site-packages\\jupyter_ydoc-0.2.4.dist-info due to invalid metadata entry 'name'\n",
      "WARNING: Skipping C:\\Users\\SK\\anaconda3\\innomatics\\Lib\\site-packages\\keyring-23.13.1.dist-info due to invalid metadata entry 'name'\n",
      "WARNING: Skipping C:\\Users\\SK\\anaconda3\\innomatics\\Lib\\site-packages\\lazy_loader-0.2.dist-info due to invalid metadata entry 'name'\n",
      "WARNING: Skipping C:\\Users\\SK\\anaconda3\\innomatics\\Lib\\site-packages\\lazy_object_proxy-1.6.0.dist-info due to invalid metadata entry 'name'\n",
      "WARNING: Skipping C:\\Users\\SK\\anaconda3\\innomatics\\Lib\\site-packages\\libmambapy-1.5.1.dist-info due to invalid metadata entry 'name'\n",
      "WARNING: Skipping C:\\Users\\SK\\anaconda3\\innomatics\\Lib\\site-packages\\llvmlite-0.40.0.dist-info due to invalid metadata entry 'name'\n",
      "WARNING: Skipping C:\\Users\\SK\\anaconda3\\innomatics\\Lib\\site-packages\\MarkupSafe-2.1.1.dist-info due to invalid metadata entry 'name'\n",
      "WARNING: Skipping C:\\Users\\SK\\anaconda3\\innomatics\\Lib\\site-packages\\mistune-0.8.4.dist-info due to invalid metadata entry 'name'\n",
      "WARNING: Skipping C:\\Users\\SK\\anaconda3\\innomatics\\Lib\\site-packages\\more_itertools-8.12.0.dist-info due to invalid metadata entry 'name'\n",
      "WARNING: Skipping C:\\Users\\SK\\anaconda3\\innomatics\\Lib\\site-packages\\multidict-6.0.2.dist-info due to invalid metadata entry 'name'\n",
      "WARNING: Skipping C:\\Users\\SK\\anaconda3\\innomatics\\Lib\\site-packages\\multiprocess-0.70.14.dist-info due to invalid metadata entry 'name'\n",
      "WARNING: Skipping C:\\Users\\SK\\anaconda3\\innomatics\\Lib\\site-packages\\munkres-1.1.4-py3.6.egg-info due to invalid metadata entry 'name'\n",
      "WARNING: Skipping C:\\Users\\SK\\anaconda3\\innomatics\\Lib\\site-packages\\navigator_updater-0.4.0.dist-info due to invalid metadata entry 'name'\n",
      "WARNING: Skipping C:\\Users\\SK\\anaconda3\\innomatics\\Lib\\site-packages\\nbclassic-0.5.5.dist-info due to invalid metadata entry 'name'\n",
      "WARNING: Skipping C:\\Users\\SK\\anaconda3\\innomatics\\Lib\\site-packages\\nbclient-0.5.13.dist-info due to invalid metadata entry 'name'\n",
      "WARNING: Skipping C:\\Users\\SK\\anaconda3\\innomatics\\Lib\\site-packages\\nbconvert-6.5.4.dist-info due to invalid metadata entry 'name'\n",
      "WARNING: Skipping C:\\Users\\SK\\anaconda3\\innomatics\\Lib\\site-packages\\nest_asyncio-1.5.6.dist-info due to invalid metadata entry 'name'\n",
      "WARNING: Skipping C:\\Users\\SK\\anaconda3\\innomatics\\Lib\\site-packages\\notebook_shim-0.2.2.dist-info due to invalid metadata entry 'name'\n",
      "WARNING: Skipping C:\\Users\\SK\\anaconda3\\innomatics\\Lib\\site-packages\\numpy-1.24.3.dist-info due to invalid metadata entry 'name'\n",
      "WARNING: Skipping C:\\Users\\SK\\anaconda3\\innomatics\\Lib\\site-packages\\packaging-23.1.dist-info due to invalid metadata entry 'name'\n",
      "WARNING: Skipping C:\\Users\\SK\\anaconda3\\innomatics\\Lib\\site-packages\\param-1.13.0.dist-info due to invalid metadata entry 'name'\n",
      "WARNING: Skipping C:\\Users\\SK\\anaconda3\\innomatics\\Lib\\site-packages\\parsel-1.6.0.dist-info due to invalid metadata entry 'name'\n",
      "WARNING: Skipping C:\\Users\\SK\\anaconda3\\innomatics\\Lib\\site-packages\\partd-1.4.0.dist-info due to invalid metadata entry 'name'\n",
      "WARNING: Skipping C:\\Users\\SK\\anaconda3\\innomatics\\Lib\\site-packages\\pathlib-1.0.1.dist-info due to invalid metadata entry 'name'\n",
      "WARNING: Skipping C:\\Users\\SK\\anaconda3\\innomatics\\Lib\\site-packages\\pillow-10.2.0.dist-info due to invalid metadata entry 'name'\n",
      "WARNING: Skipping C:\\Users\\SK\\anaconda3\\innomatics\\Lib\\site-packages\\plotly-5.9.0.dist-info due to invalid metadata entry 'name'\n",
      "WARNING: Skipping C:\\Users\\SK\\anaconda3\\innomatics\\Lib\\site-packages\\poyo-0.5.0.dist-info due to invalid metadata entry 'name'\n",
      "WARNING: Skipping C:\\Users\\SK\\anaconda3\\innomatics\\Lib\\site-packages\\prompt_toolkit-3.0.36.dist-info due to invalid metadata entry 'name'\n",
      "WARNING: Skipping C:\\Users\\SK\\anaconda3\\innomatics\\Lib\\site-packages\\pycodestyle-2.10.0.dist-info due to invalid metadata entry 'name'\n",
      "WARNING: Skipping C:\\Users\\SK\\anaconda3\\innomatics\\Lib\\site-packages\\pycosat-0.6.4.dist-info due to invalid metadata entry 'name'\n",
      "WARNING: Skipping C:\\Users\\SK\\anaconda3\\innomatics\\Lib\\site-packages\\pydantic-1.10.8.dist-info due to invalid metadata entry 'name'\n",
      "WARNING: Skipping C:\\Users\\SK\\anaconda3\\innomatics\\Lib\\site-packages\\pyflakes-3.0.1.dist-info due to invalid metadata entry 'name'\n",
      "WARNING: Skipping C:\\Users\\SK\\anaconda3\\innomatics\\Lib\\site-packages\\PyJWT-2.4.0.dist-info due to invalid metadata entry 'name'\n",
      "WARNING: Skipping C:\\Users\\SK\\anaconda3\\innomatics\\Lib\\site-packages\\pylint_venv-2.3.0.dist-info due to invalid metadata entry 'name'\n",
      "WARNING: Skipping C:\\Users\\SK\\anaconda3\\innomatics\\Lib\\site-packages\\pyodbc-4.0.34.dist-info due to invalid metadata entry 'name'\n",
      "WARNING: Skipping C:\\Users\\SK\\anaconda3\\innomatics\\Lib\\site-packages\\pyOpenSSL-23.2.0.dist-info due to invalid metadata entry 'name'\n",
      "WARNING: Skipping C:\\Users\\SK\\anaconda3\\innomatics\\Lib\\site-packages\\pyrsistent-0.18.0.dist-info due to invalid metadata entry 'name'\n",
      "WARNING: Skipping C:\\Users\\SK\\anaconda3\\innomatics\\Lib\\site-packages\\python_lsp_black-1.2.1.dist-info due to invalid metadata entry 'name'\n",
      "WARNING: Skipping C:\\Users\\SK\\anaconda3\\innomatics\\Lib\\site-packages\\python_lsp_jsonrpc-1.0.0-py3.10.egg-info due to invalid metadata entry 'name'\n",
      "WARNING: Skipping C:\\Users\\SK\\anaconda3\\innomatics\\Lib\\site-packages\\python_lsp_server-1.7.2.dist-info due to invalid metadata entry 'name'\n",
      "WARNING: Skipping C:\\Users\\SK\\anaconda3\\innomatics\\Lib\\site-packages\\pytoolconfig-1.2.5.dist-info due to invalid metadata entry 'name'\n",
      "WARNING: Skipping C:\\Users\\SK\\anaconda3\\innomatics\\Lib\\site-packages\\pytz-2023.3.post1.dist-info due to invalid metadata entry 'name'\n",
      "WARNING: Skipping C:\\Users\\SK\\anaconda3\\innomatics\\Lib\\site-packages\\pyviz_comms-2.3.0.dist-info due to invalid metadata entry 'name'\n",
      "WARNING: Skipping C:\\Users\\SK\\anaconda3\\innomatics\\Lib\\site-packages\\pywin32_ctypes-0.2.0.dist-info due to invalid metadata entry 'name'\n",
      "WARNING: Skipping C:\\Users\\SK\\anaconda3\\innomatics\\Lib\\site-packages\\PyYAML-6.0.dist-info due to invalid metadata entry 'name'\n",
      "WARNING: Skipping C:\\Users\\SK\\anaconda3\\innomatics\\Lib\\site-packages\\py_cpuinfo-8.0.0.dist-info due to invalid metadata entry 'name'\n",
      "WARNING: Skipping C:\\Users\\SK\\anaconda3\\innomatics\\Lib\\site-packages\\QDarkStyle-3.0.2.dist-info due to invalid metadata entry 'name'\n",
      "WARNING: Skipping C:\\Users\\SK\\anaconda3\\innomatics\\Lib\\site-packages\\qtconsole-5.4.2.dist-info due to invalid metadata entry 'name'\n",
      "WARNING: Skipping C:\\Users\\SK\\anaconda3\\innomatics\\Lib\\site-packages\\QtPy-2.2.0.dist-info due to invalid metadata entry 'name'\n",
      "WARNING: Skipping C:\\Users\\SK\\anaconda3\\innomatics\\Lib\\site-packages\\queuelib-1.5.0-py3.11.egg-info due to invalid metadata entry 'name'\n",
      "WARNING: Skipping C:\\Users\\SK\\anaconda3\\innomatics\\Lib\\site-packages\\regex-2022.7.9.dist-info due to invalid metadata entry 'name'\n",
      "WARNING: Skipping C:\\Users\\SK\\anaconda3\\innomatics\\Lib\\site-packages\\responses-0.13.3.dist-info due to invalid metadata entry 'name'\n",
      "WARNING: Skipping C:\\Users\\SK\\anaconda3\\innomatics\\Lib\\site-packages\\rope-1.7.0.dist-info due to invalid metadata entry 'name'\n",
      "WARNING: Skipping C:\\Users\\SK\\anaconda3\\innomatics\\Lib\\site-packages\\s3fs-2023.4.0.dist-info due to invalid metadata entry 'name'\n",
      "WARNING: Skipping C:\\Users\\SK\\anaconda3\\innomatics\\Lib\\site-packages\\safetensors-0.3.2.dist-info due to invalid metadata entry 'name'\n",
      "WARNING: Skipping C:\\Users\\SK\\anaconda3\\innomatics\\Lib\\site-packages\\Scrapy-2.8.0.dist-info due to invalid metadata entry 'name'\n",
      "WARNING: Skipping C:\\Users\\SK\\anaconda3\\innomatics\\Lib\\site-packages\\sniffio-1.2.0.dist-info due to invalid metadata entry 'name'\n",
      "WARNING: Skipping C:\\Users\\SK\\anaconda3\\innomatics\\Lib\\site-packages\\soupsieve-2.4.dist-info due to invalid metadata entry 'name'\n",
      "WARNING: Skipping C:\\Users\\SK\\anaconda3\\innomatics\\Lib\\site-packages\\spyder-5.4.3.dist-info due to invalid metadata entry 'name'\n",
      "WARNING: Skipping C:\\Users\\SK\\anaconda3\\innomatics\\Lib\\site-packages\\spyder_kernels-2.4.4.dist-info due to invalid metadata entry 'name'\n",
      "WARNING: Skipping C:\\Users\\SK\\anaconda3\\innomatics\\Lib\\site-packages\\SQLAlchemy-1.4.39.dist-info due to invalid metadata entry 'name'\n",
      "WARNING: Skipping C:\\Users\\SK\\anaconda3\\innomatics\\Lib\\site-packages\\sympy-1.11.1.dist-info due to invalid metadata entry 'name'\n",
      "WARNING: Skipping C:\\Users\\SK\\anaconda3\\innomatics\\Lib\\site-packages\\tabulate-0.8.10.dist-info due to invalid metadata entry 'name'\n",
      "WARNING: Skipping C:\\Users\\SK\\anaconda3\\innomatics\\Lib\\site-packages\\tokenizers-0.13.2.dist-info due to invalid metadata entry 'name'\n",
      "WARNING: Skipping C:\\Users\\SK\\anaconda3\\innomatics\\Lib\\site-packages\\tornado-6.3.2.dist-info due to invalid metadata entry 'name'\n",
      "WARNING: Skipping C:\\Users\\SK\\anaconda3\\innomatics\\Lib\\site-packages\\tqdm-4.65.0.dist-info due to invalid metadata entry 'name'\n",
      "WARNING: Skipping C:\\Users\\SK\\anaconda3\\innomatics\\Lib\\site-packages\\Twisted-22.10.0.dist-info due to invalid metadata entry 'name'\n",
      "WARNING: Skipping C:\\Users\\SK\\anaconda3\\innomatics\\Lib\\site-packages\\typing_extensions-4.7.1.dist-info due to invalid metadata entry 'name'\n",
      "WARNING: Skipping C:\\Users\\SK\\anaconda3\\innomatics\\Lib\\site-packages\\urllib3-1.26.16.dist-info due to invalid metadata entry 'name'\n",
      "WARNING: Skipping C:\\Users\\SK\\anaconda3\\innomatics\\Lib\\site-packages\\w3lib-1.21.0.dist-info due to invalid metadata entry 'name'\n",
      "WARNING: Skipping C:\\Users\\SK\\anaconda3\\innomatics\\Lib\\site-packages\\widgetsnbextension-4.0.5.dist-info due to invalid metadata entry 'name'\n",
      "WARNING: Skipping C:\\Users\\SK\\anaconda3\\innomatics\\Lib\\site-packages\\xxhash-2.0.2.dist-info due to invalid metadata entry 'name'\n",
      "WARNING: Skipping C:\\Users\\SK\\anaconda3\\innomatics\\Lib\\site-packages\\yapf-0.31.0.dist-info due to invalid metadata entry 'name'\n",
      "WARNING: Skipping C:\\Users\\SK\\anaconda3\\innomatics\\Lib\\site-packages\\yarl-1.8.1.dist-info due to invalid metadata entry 'name'\n",
      "WARNING: Skipping C:\\Users\\SK\\anaconda3\\innomatics\\Lib\\site-packages\\ypy_websocket-0.8.2.dist-info due to invalid metadata entry 'name'\n",
      "WARNING: Skipping C:\\Users\\SK\\anaconda3\\innomatics\\Lib\\site-packages\\y_py-0.5.9.dist-info due to invalid metadata entry 'name'\n",
      "WARNING: Skipping C:\\Users\\SK\\anaconda3\\innomatics\\Lib\\site-packages\\zict-2.2.0.dist-info due to invalid metadata entry 'name'\n",
      "WARNING: Skipping C:\\Users\\SK\\anaconda3\\innomatics\\Lib\\site-packages\\zipp-3.11.0.dist-info due to invalid metadata entry 'name'\n",
      "WARNING: Skipping C:\\Users\\SK\\anaconda3\\innomatics\\Lib\\site-packages\\zstandard-0.19.0-py3.11.egg-info due to invalid metadata entry 'name'\n"
     ]
    }
   ],
   "source": [
    "#pip install scikit-learn"
   ]
  },
  {
   "cell_type": "markdown",
   "id": "71d4953c",
   "metadata": {},
   "source": [
    "#### Splitting into Train and Test"
   ]
  },
  {
   "cell_type": "code",
   "execution_count": 33,
   "id": "bf1c4abb",
   "metadata": {},
   "outputs": [],
   "source": [
    "from sklearn.model_selection import train_test_split"
   ]
  },
  {
   "cell_type": "code",
   "execution_count": 46,
   "id": "b00263ab",
   "metadata": {},
   "outputs": [
    {
     "data": {
      "text/plain": [
       "[       SquareFeet  Bedrooms  Bathrooms  Neighborhood  YearBuilt\n",
       " 30415        2931         3          1             3       1988\n",
       " 21710        2848         3          2             2       1989\n",
       " 13743        2379         2          2             1       1971\n",
       " 10137        1614         3          3             3       1955\n",
       " 14471        1995         5          3             1       1952\n",
       " ...           ...       ...        ...           ...        ...\n",
       " 25233        1233         4          3             2       2020\n",
       " 18448        2080         3          1             1       1967\n",
       " 40753        2293         2          1             3       1958\n",
       " 19776        1854         3          1             2       1967\n",
       " 14148        2240         5          3             1       2008\n",
       " \n",
       " [40000 rows x 5 columns],\n",
       "        SquareFeet  Bedrooms  Bathrooms  Neighborhood  YearBuilt\n",
       " 7396         1548         3          2             2       1992\n",
       " 29820        1933         2          2             3       1951\n",
       " 1987         2942         5          1             1       1975\n",
       " 20095        2769         3          3             2       2021\n",
       " 32435        1106         5          1             3       1993\n",
       " ...           ...       ...        ...           ...        ...\n",
       " 159          2863         5          1             2       2000\n",
       " 39708        1741         4          3             2       1995\n",
       " 15946        1170         5          2             1       2009\n",
       " 22235        1153         5          3             1       1998\n",
       " 11701        1616         3          2             2       2018\n",
       " \n",
       " [10000 rows x 5 columns],\n",
       " 30415    373129.443222\n",
       " 21710    260008.603707\n",
       " 13743    282629.748949\n",
       " 10137    255359.360111\n",
       " 14471    289180.624952\n",
       "              ...      \n",
       " 25233    149827.740258\n",
       " 18448    169032.924860\n",
       " 40753    218921.846249\n",
       " 19776    136117.649050\n",
       " 14148    236627.230785\n",
       " Name: Price, Length: 40000, dtype: float64,\n",
       " 7396     164396.463229\n",
       " 29820    219475.109399\n",
       " 1987     355453.850852\n",
       " 20095    274515.094542\n",
       " 32435    139966.238341\n",
       "              ...      \n",
       " 159      333464.149029\n",
       " 39708    288589.926513\n",
       " 15946    221524.676798\n",
       " 22235    114627.054706\n",
       " 11701    197432.282357\n",
       " Name: Price, Length: 10000, dtype: float64]"
      ]
     },
     "execution_count": 46,
     "metadata": {},
     "output_type": "execute_result"
    }
   ],
   "source": [
    "train_test_split(X,y,test_size=0.2,random_state=43)"
   ]
  },
  {
   "cell_type": "code",
   "execution_count": 47,
   "id": "9023c37a",
   "metadata": {},
   "outputs": [],
   "source": [
    "X_train,X_test,y_train,y_test=train_test_split(X,y,test_size=0.2,random_state=23)"
   ]
  },
  {
   "cell_type": "code",
   "execution_count": 48,
   "id": "d1a5a17a",
   "metadata": {},
   "outputs": [
    {
     "data": {
      "text/plain": [
       "(40000, 5)"
      ]
     },
     "execution_count": 48,
     "metadata": {},
     "output_type": "execute_result"
    }
   ],
   "source": [
    "X_train.shape"
   ]
  },
  {
   "cell_type": "code",
   "execution_count": 49,
   "id": "d0ac867d",
   "metadata": {},
   "outputs": [
    {
     "data": {
      "text/plain": [
       "(40000,)"
      ]
     },
     "execution_count": 49,
     "metadata": {},
     "output_type": "execute_result"
    }
   ],
   "source": [
    "y_train.shape"
   ]
  },
  {
   "cell_type": "code",
   "execution_count": 50,
   "id": "cac313e5",
   "metadata": {},
   "outputs": [
    {
     "data": {
      "text/plain": [
       "(10000, 5)"
      ]
     },
     "execution_count": 50,
     "metadata": {},
     "output_type": "execute_result"
    }
   ],
   "source": [
    "X_test.shape"
   ]
  },
  {
   "cell_type": "code",
   "execution_count": 51,
   "id": "1cb4ea54",
   "metadata": {},
   "outputs": [
    {
     "data": {
      "text/plain": [
       "(10000,)"
      ]
     },
     "execution_count": 51,
     "metadata": {},
     "output_type": "execute_result"
    }
   ],
   "source": [
    "y_test.shape"
   ]
  },
  {
   "cell_type": "markdown",
   "id": "2cd91473",
   "metadata": {},
   "source": [
    "### KNN,Linear Regression,SVM,DT"
   ]
  },
  {
   "cell_type": "markdown",
   "id": "abefdec6",
   "metadata": {},
   "source": [
    "#### KNN"
   ]
  },
  {
   "cell_type": "code",
   "execution_count": 52,
   "id": "a9825f12",
   "metadata": {},
   "outputs": [],
   "source": [
    "from sklearn.neighbors import KNeighborsRegressor\n",
    "from sklearn.metrics import mean_squared_error,r2_score"
   ]
  },
  {
   "cell_type": "code",
   "execution_count": 53,
   "id": "0d48020b",
   "metadata": {},
   "outputs": [
    {
     "name": "stdout",
     "output_type": "stream",
     "text": [
      "54247.93901533543\n"
     ]
    }
   ],
   "source": [
    "knn=KNeighborsRegressor()\n",
    "knn.fit(X_train,y_train)\n",
    "y_pred=knn.predict(X_test)\n",
    "print(np.sqrt(mean_squared_error(y_test,y_pred)))"
   ]
  },
  {
   "cell_type": "markdown",
   "id": "6fc4c95c",
   "metadata": {},
   "source": [
    "### Linear Regression"
   ]
  },
  {
   "cell_type": "code",
   "execution_count": 56,
   "id": "70a526e7",
   "metadata": {},
   "outputs": [
    {
     "name": "stdout",
     "output_type": "stream",
     "text": [
      "49403.976927995944\n"
     ]
    }
   ],
   "source": [
    "from sklearn.linear_model import LinearRegression\n",
    "lr=LinearRegression()\n",
    "lr.fit(X_train,y_train)\n",
    "y_pred=lr.predict(X_test)\n",
    "print(np.sqrt(mean_squared_error(y_test,y_pred)))"
   ]
  },
  {
   "cell_type": "markdown",
   "id": "5ad8e07d",
   "metadata": {},
   "source": [
    "### Support Vector Regression"
   ]
  },
  {
   "cell_type": "code",
   "execution_count": null,
   "id": "4f9646e8",
   "metadata": {},
   "outputs": [],
   "source": [
    "from sklearn.svm import SVR\n",
    "sv=SVR()\n",
    "sv.fit(X_train,y_train)\n",
    "y_pred=sv.predict(X_test)\n",
    "print(np.sqrt(mean_squared_error(y_test,y_pred)))"
   ]
  },
  {
   "cell_type": "markdown",
   "id": "1c331b24",
   "metadata": {},
   "source": [
    "### Decision Tree"
   ]
  },
  {
   "cell_type": "code",
   "execution_count": 57,
   "id": "920bfcdd",
   "metadata": {},
   "outputs": [
    {
     "name": "stdout",
     "output_type": "stream",
     "text": [
      "72470.7609220074\n"
     ]
    }
   ],
   "source": [
    "from sklearn.tree import DecisionTreeRegressor\n",
    "dt=DecisionTreeRegressor()\n",
    "dt.fit(X_train,y_train)\n",
    "y_pred=dt.predict(X_test)\n",
    "print(np.sqrt(mean_squared_error(y_test,y_pred)))"
   ]
  },
  {
   "cell_type": "code",
   "execution_count": 58,
   "id": "faeb8631",
   "metadata": {},
   "outputs": [
    {
     "name": "stderr",
     "output_type": "stream",
     "text": [
      "C:\\Users\\SK\\anaconda3\\innomatics\\Lib\\site-packages\\sklearn\\base.py:493: UserWarning: X does not have valid feature names, but LinearRegression was fitted with feature names\n",
      "  warnings.warn(\n"
     ]
    },
    {
     "data": {
      "text/plain": [
       "array([257199.22508665])"
      ]
     },
     "execution_count": 58,
     "metadata": {},
     "output_type": "execute_result"
    }
   ],
   "source": [
    "lr.predict([[2250,5,2,3,2002]])[[0]]"
   ]
  },
  {
   "cell_type": "code",
   "execution_count": 59,
   "id": "d662b900",
   "metadata": {},
   "outputs": [
    {
     "data": {
      "text/plain": [
       "array([  99.31308607, 5168.85659283, 2625.12603247,  752.26187692,\n",
       "        -13.64933459])"
      ]
     },
     "execution_count": 59,
     "metadata": {},
     "output_type": "execute_result"
    }
   ],
   "source": [
    "lr.coef_"
   ]
  },
  {
   "cell_type": "code",
   "execution_count": 60,
   "id": "c2293312",
   "metadata": {},
   "outputs": [
    {
     "data": {
      "text/plain": [
       "27719.428600464948"
      ]
     },
     "execution_count": 60,
     "metadata": {},
     "output_type": "execute_result"
    }
   ],
   "source": [
    "lr.intercept_"
   ]
  },
  {
   "cell_type": "markdown",
   "id": "6d841823",
   "metadata": {},
   "source": [
    "y=m1*x2+m2*x2.......+intercept"
   ]
  },
  {
   "cell_type": "code",
   "execution_count": 61,
   "id": "c0b0a4ac",
   "metadata": {},
   "outputs": [],
   "source": [
    "sqft=2250\n",
    "bed=5\n",
    "bath=2\n",
    "nb=3\n",
    "year=2002\n",
    "price=99.31308607*sqft+5168.85659283*bed+2625.12603247*bath+752.26187692*nb-13.64933459*year+27719.428600464948"
   ]
  },
  {
   "cell_type": "code",
   "execution_count": 62,
   "id": "6c79f320",
   "metadata": {},
   "outputs": [
    {
     "data": {
      "text/plain": [
       "257199.22506863496"
      ]
     },
     "execution_count": 62,
     "metadata": {},
     "output_type": "execute_result"
    }
   ],
   "source": [
    "price"
   ]
  },
  {
   "cell_type": "markdown",
   "id": "faef1ef3",
   "metadata": {},
   "source": [
    "### Pickling"
   ]
  },
  {
   "cell_type": "code",
   "execution_count": 63,
   "id": "7089ab51",
   "metadata": {},
   "outputs": [],
   "source": [
    "import pickle"
   ]
  },
  {
   "cell_type": "code",
   "execution_count": 65,
   "id": "a57d7707",
   "metadata": {},
   "outputs": [],
   "source": [
    "pickle.dump(lr,open('lr.pkl','wb'))   #writing as a binary format file"
   ]
  },
  {
   "cell_type": "code",
   "execution_count": 66,
   "id": "8ca06789",
   "metadata": {},
   "outputs": [],
   "source": [
    "model=pickle.load(open('lr.pkl','rb'))"
   ]
  },
  {
   "cell_type": "code",
   "execution_count": 67,
   "id": "e7a4d3a6",
   "metadata": {},
   "outputs": [
    {
     "name": "stderr",
     "output_type": "stream",
     "text": [
      "C:\\Users\\SK\\anaconda3\\innomatics\\Lib\\site-packages\\sklearn\\base.py:493: UserWarning: X does not have valid feature names, but LinearRegression was fitted with feature names\n",
      "  warnings.warn(\n"
     ]
    },
    {
     "data": {
      "text/plain": [
       "array([236036.32407558])"
      ]
     },
     "execution_count": 67,
     "metadata": {},
     "output_type": "execute_result"
    }
   ],
   "source": [
    "model.predict([[2126,4,1,1,1969]])"
   ]
  },
  {
   "cell_type": "code",
   "execution_count": null,
   "id": "7fe787f7",
   "metadata": {},
   "outputs": [],
   "source": []
  },
  {
   "cell_type": "code",
   "execution_count": null,
   "id": "bb67f17f",
   "metadata": {},
   "outputs": [],
   "source": []
  }
 ],
 "metadata": {
  "kernelspec": {
   "display_name": "Python 3 (ipykernel)",
   "language": "python",
   "name": "python3"
  },
  "language_info": {
   "codemirror_mode": {
    "name": "ipython",
    "version": 3
   },
   "file_extension": ".py",
   "mimetype": "text/x-python",
   "name": "python",
   "nbconvert_exporter": "python",
   "pygments_lexer": "ipython3",
   "version": "3.11.5"
  }
 },
 "nbformat": 4,
 "nbformat_minor": 5
}
